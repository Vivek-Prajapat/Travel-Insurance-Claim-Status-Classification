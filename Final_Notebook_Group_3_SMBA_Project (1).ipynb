{
 "cells": [
  {
   "cell_type": "code",
   "execution_count": 1,
   "metadata": {},
   "outputs": [
    {
     "name": "stdout",
     "output_type": "stream",
     "text": [
      "[WinError 21] The device is not ready: 'E:\\\\study\\\\MBA-652 SMBA'\n",
      "C:\\Users\\Saurabh\\Desktop\\SEM 2\\MBA652A SMBA\\Project\n"
     ]
    }
   ],
   "source": [
    "cd E:\\study\\MBA-652 SMBA"
   ]
  },
  {
   "cell_type": "code",
   "execution_count": 2,
   "metadata": {},
   "outputs": [],
   "source": [
    "#import libraries\n",
    "import pandas as pd\n",
    "import numpy as np\n",
    "\n",
    "#importing liabraries for graphical representation\n",
    "import matplotlib.pyplot as plt\n",
    "import seaborn as sns\n",
    "from pandas.plotting import scatter_matrix\n",
    "import matplotlib.patches as mpatches\n",
    "from matplotlib import rcParams\n",
    "from matplotlib.cm import rainbow\n",
    "%matplotlib inline"
   ]
  },
  {
   "cell_type": "markdown",
   "metadata": {},
   "source": [
    "## Importing the Data set in a dataframe - travel"
   ]
  },
  {
   "cell_type": "code",
   "execution_count": 3,
   "metadata": {},
   "outputs": [
    {
     "name": "stdout",
     "output_type": "stream",
     "text": [
      "<class 'pandas.core.frame.DataFrame'>\n",
      "RangeIndex: 63326 entries, 0 to 63325\n",
      "Data columns (total 11 columns):\n",
      " #   Column                Non-Null Count  Dtype  \n",
      "---  ------                --------------  -----  \n",
      " 0   Agency                63326 non-null  object \n",
      " 1   Agency Type           63326 non-null  object \n",
      " 2   Distribution Channel  63326 non-null  object \n",
      " 3   Product Name          63326 non-null  object \n",
      " 4   Claim                 63326 non-null  object \n",
      " 5   Duration              63326 non-null  int64  \n",
      " 6   Destination           63326 non-null  object \n",
      " 7   Net Sales             63326 non-null  float64\n",
      " 8   Commision (in value)  63326 non-null  float64\n",
      " 9   Gender                18219 non-null  object \n",
      " 10  Age                   63326 non-null  int64  \n",
      "dtypes: float64(2), int64(2), object(7)\n",
      "memory usage: 5.3+ MB\n"
     ]
    }
   ],
   "source": [
    "#import data\n",
    "travel=pd.read_csv(\"travel insurance.csv\")\n",
    "travel.info()"
   ]
  },
  {
   "cell_type": "code",
   "execution_count": 4,
   "metadata": {},
   "outputs": [
    {
     "data": {
      "text/html": [
       "<div>\n",
       "<style scoped>\n",
       "    .dataframe tbody tr th:only-of-type {\n",
       "        vertical-align: middle;\n",
       "    }\n",
       "\n",
       "    .dataframe tbody tr th {\n",
       "        vertical-align: top;\n",
       "    }\n",
       "\n",
       "    .dataframe thead th {\n",
       "        text-align: right;\n",
       "    }\n",
       "</style>\n",
       "<table border=\"1\" class=\"dataframe\">\n",
       "  <thead>\n",
       "    <tr style=\"text-align: right;\">\n",
       "      <th></th>\n",
       "      <th>Agency</th>\n",
       "      <th>Agency Type</th>\n",
       "      <th>Distribution Channel</th>\n",
       "      <th>Product Name</th>\n",
       "      <th>Claim</th>\n",
       "      <th>Duration</th>\n",
       "      <th>Destination</th>\n",
       "      <th>Net Sales</th>\n",
       "      <th>Commision (in value)</th>\n",
       "      <th>Gender</th>\n",
       "      <th>Age</th>\n",
       "    </tr>\n",
       "  </thead>\n",
       "  <tbody>\n",
       "    <tr>\n",
       "      <th>0</th>\n",
       "      <td>CBH</td>\n",
       "      <td>Travel Agency</td>\n",
       "      <td>Offline</td>\n",
       "      <td>Comprehensive Plan</td>\n",
       "      <td>No</td>\n",
       "      <td>186</td>\n",
       "      <td>MALAYSIA</td>\n",
       "      <td>-29.0</td>\n",
       "      <td>9.57</td>\n",
       "      <td>F</td>\n",
       "      <td>81</td>\n",
       "    </tr>\n",
       "    <tr>\n",
       "      <th>1</th>\n",
       "      <td>CBH</td>\n",
       "      <td>Travel Agency</td>\n",
       "      <td>Offline</td>\n",
       "      <td>Comprehensive Plan</td>\n",
       "      <td>No</td>\n",
       "      <td>186</td>\n",
       "      <td>MALAYSIA</td>\n",
       "      <td>-29.0</td>\n",
       "      <td>9.57</td>\n",
       "      <td>F</td>\n",
       "      <td>71</td>\n",
       "    </tr>\n",
       "    <tr>\n",
       "      <th>2</th>\n",
       "      <td>CWT</td>\n",
       "      <td>Travel Agency</td>\n",
       "      <td>Online</td>\n",
       "      <td>Rental Vehicle Excess Insurance</td>\n",
       "      <td>No</td>\n",
       "      <td>65</td>\n",
       "      <td>AUSTRALIA</td>\n",
       "      <td>-49.5</td>\n",
       "      <td>29.70</td>\n",
       "      <td>NaN</td>\n",
       "      <td>32</td>\n",
       "    </tr>\n",
       "    <tr>\n",
       "      <th>3</th>\n",
       "      <td>CWT</td>\n",
       "      <td>Travel Agency</td>\n",
       "      <td>Online</td>\n",
       "      <td>Rental Vehicle Excess Insurance</td>\n",
       "      <td>No</td>\n",
       "      <td>60</td>\n",
       "      <td>AUSTRALIA</td>\n",
       "      <td>-39.6</td>\n",
       "      <td>23.76</td>\n",
       "      <td>NaN</td>\n",
       "      <td>32</td>\n",
       "    </tr>\n",
       "    <tr>\n",
       "      <th>4</th>\n",
       "      <td>CWT</td>\n",
       "      <td>Travel Agency</td>\n",
       "      <td>Online</td>\n",
       "      <td>Rental Vehicle Excess Insurance</td>\n",
       "      <td>No</td>\n",
       "      <td>79</td>\n",
       "      <td>ITALY</td>\n",
       "      <td>-19.8</td>\n",
       "      <td>11.88</td>\n",
       "      <td>NaN</td>\n",
       "      <td>41</td>\n",
       "    </tr>\n",
       "  </tbody>\n",
       "</table>\n",
       "</div>"
      ],
      "text/plain": [
       "  Agency    Agency Type Distribution Channel                     Product Name  \\\n",
       "0    CBH  Travel Agency              Offline               Comprehensive Plan   \n",
       "1    CBH  Travel Agency              Offline               Comprehensive Plan   \n",
       "2    CWT  Travel Agency               Online  Rental Vehicle Excess Insurance   \n",
       "3    CWT  Travel Agency               Online  Rental Vehicle Excess Insurance   \n",
       "4    CWT  Travel Agency               Online  Rental Vehicle Excess Insurance   \n",
       "\n",
       "  Claim  Duration Destination  Net Sales  Commision (in value) Gender  Age  \n",
       "0    No       186    MALAYSIA      -29.0                  9.57      F   81  \n",
       "1    No       186    MALAYSIA      -29.0                  9.57      F   71  \n",
       "2    No        65   AUSTRALIA      -49.5                 29.70    NaN   32  \n",
       "3    No        60   AUSTRALIA      -39.6                 23.76    NaN   32  \n",
       "4    No        79       ITALY      -19.8                 11.88    NaN   41  "
      ]
     },
     "execution_count": 4,
     "metadata": {},
     "output_type": "execute_result"
    }
   ],
   "source": [
    "travel.head()"
   ]
  },
  {
   "cell_type": "markdown",
   "metadata": {},
   "source": [
    "## Basic Data Hygiene Check"
   ]
  },
  {
   "cell_type": "code",
   "execution_count": 5,
   "metadata": {},
   "outputs": [
    {
     "data": {
      "text/plain": [
       "Claim\n",
       "No     0.9854\n",
       "Yes    0.0146\n",
       "dtype: float64"
      ]
     },
     "execution_count": 5,
     "metadata": {},
     "output_type": "execute_result"
    }
   ],
   "source": [
    "# Checking the distribution of the claims\n",
    "\n",
    "(travel.groupby('Claim').size()/travel.shape[0]).round(4)"
   ]
  },
  {
   "cell_type": "code",
   "execution_count": 6,
   "metadata": {},
   "outputs": [
    {
     "data": {
      "text/plain": [
       "Text(0.5, 1.0, 'Count of each Target Class')"
      ]
     },
     "execution_count": 6,
     "metadata": {},
     "output_type": "execute_result"
    },
    {
     "data": {
      "image/png": "[encoded data removed]",
      "text/plain": [
       "<Figure size 576x432 with 1 Axes>"
      ]
     },
     "metadata": {
      "needs_background": "light"
     },
     "output_type": "display_data"
    }
   ],
   "source": [
    "rcParams['figure.figsize'] = 8,6\n",
    "plt.bar(travel['Claim'].unique(), travel['Claim'].value_counts(), color = ['green', 'yellow'])\n",
    "plt.xticks([0, 1])\n",
    "plt.xlabel('Target Classes')\n",
    "plt.ylabel('Count')\n",
    "plt.title('Count of each Target Class')"
   ]
  },
  {
   "cell_type": "code",
   "execution_count": 7,
   "metadata": {},
   "outputs": [
    {
     "data": {
      "text/plain": [
       "Agency                      0\n",
       "Agency Type                 0\n",
       "Distribution Channel        0\n",
       "Product Name                0\n",
       "Claim                       0\n",
       "Duration                    0\n",
       "Destination                 0\n",
       "Net Sales                   0\n",
       "Commision (in value)        0\n",
       "Gender                  45107\n",
       "Age                         0\n",
       "dtype: int64"
      ]
     },
     "execution_count": 7,
     "metadata": {},
     "output_type": "execute_result"
    }
   ],
   "source": [
    "# checking for the null values.\n",
    "\n",
    "travel.isnull().sum()"
   ]
  },
  {
   "cell_type": "code",
   "execution_count": 8,
   "metadata": {},
   "outputs": [
    {
     "data": {
      "text/plain": [
       "71.23"
      ]
     },
     "execution_count": 8,
     "metadata": {},
     "output_type": "execute_result"
    }
   ],
   "source": [
    "# Checking the weightage of null values.\n",
    "\n",
    "(travel['Gender'].isnull().sum()/travel.shape[0]*100).round(2)"
   ]
  },
  {
   "cell_type": "code",
   "execution_count": 9,
   "metadata": {},
   "outputs": [
    {
     "data": {
      "text/plain": [
       "Agency                    16\n",
       "Agency Type                2\n",
       "Distribution Channel       2\n",
       "Product Name              26\n",
       "Claim                      2\n",
       "Duration                 455\n",
       "Destination              149\n",
       "Net Sales               1139\n",
       "Commision (in value)    1035\n",
       "Gender                     2\n",
       "Age                       89\n",
       "dtype: int64"
      ]
     },
     "execution_count": 9,
     "metadata": {},
     "output_type": "execute_result"
    }
   ],
   "source": [
    "# Check for unique Value in the DataFrame.\n",
    "\n",
    "travel.nunique()"
   ]
  },
  {
   "cell_type": "code",
   "execution_count": 10,
   "metadata": {},
   "outputs": [
    {
     "data": {
      "text/plain": [
       "EPX    35119\n",
       "CWT     8580\n",
       "C2B     8267\n",
       "JZI     6329\n",
       "SSI     1056\n",
       "JWT      749\n",
       "RAB      725\n",
       "LWC      689\n",
       "TST      528\n",
       "KML      392\n",
       "ART      331\n",
       "CCR      194\n",
       "CBH      101\n",
       "TTW       98\n",
       "CSR       86\n",
       "ADM       82\n",
       "Name: Agency, dtype: int64"
      ]
     },
     "execution_count": 10,
     "metadata": {},
     "output_type": "execute_result"
    }
   ],
   "source": [
    "travel[\"Agency\"].value_counts(dropna=False)"
   ]
  },
  {
   "cell_type": "code",
   "execution_count": 11,
   "metadata": {},
   "outputs": [
    {
     "data": {
      "text/plain": [
       "Travel Agency    45869\n",
       "Airlines         17457\n",
       "Name: Agency Type, dtype: int64"
      ]
     },
     "execution_count": 11,
     "metadata": {},
     "output_type": "execute_result"
    }
   ],
   "source": [
    "travel[\"Agency Type\"].value_counts(dropna=False)"
   ]
  },
  {
   "cell_type": "code",
   "execution_count": 12,
   "metadata": {},
   "outputs": [
    {
     "data": {
      "text/plain": [
       "Online     62219\n",
       "Offline     1107\n",
       "Name: Distribution Channel, dtype: int64"
      ]
     },
     "execution_count": 12,
     "metadata": {},
     "output_type": "execute_result"
    }
   ],
   "source": [
    "travel[\"Distribution Channel\"].value_counts(dropna=False)"
   ]
  },
  {
   "cell_type": "code",
   "execution_count": 13,
   "metadata": {},
   "outputs": [
    {
     "data": {
      "text/plain": [
       "Cancellation Plan                       18630\n",
       "2 way Comprehensive Plan                13158\n",
       "Rental Vehicle Excess Insurance          8580\n",
       "Basic Plan                               5469\n",
       "Bronze Plan                              4049\n",
       "1 way Comprehensive Plan                 3331\n",
       "Value Plan                               2715\n",
       "Silver Plan                              2249\n",
       "Annual Silver Plan                       1423\n",
       "Ticket Protector                         1056\n",
       "Travel Cruise Protect                     527\n",
       "Comprehensive Plan                        364\n",
       "Gold Plan                                 352\n",
       "24 Protect                                247\n",
       "Single Trip Travel Protect Gold           204\n",
       "Annual Gold Plan                          194\n",
       "Premier Plan                              194\n",
       "Single Trip Travel Protect Silver         173\n",
       "Annual Travel Protect Gold                100\n",
       "Annual Travel Protect Silver               86\n",
       "Individual Comprehensive Plan              74\n",
       "Single Trip Travel Protect Platinum        73\n",
       "Annual Travel Protect Platinum             53\n",
       "Spouse or Parents Comprehensive Plan       15\n",
       "Child Comprehensive Plan                    9\n",
       "Travel Cruise Protect Family                1\n",
       "Name: Product Name, dtype: int64"
      ]
     },
     "execution_count": 13,
     "metadata": {},
     "output_type": "execute_result"
    }
   ],
   "source": [
    "travel[\"Product Name\"].value_counts(dropna=False)"
   ]
  },
  {
   "cell_type": "code",
   "execution_count": 14,
   "metadata": {},
   "outputs": [
    {
     "data": {
      "text/plain": [
       "SINGAPORE                                 13255\n",
       "MALAYSIA                                   5930\n",
       "THAILAND                                   5894\n",
       "CHINA                                      4796\n",
       "AUSTRALIA                                  3694\n",
       "                                          ...  \n",
       "GUATEMALA                                     1\n",
       "BOTSWANA                                      1\n",
       "BARBADOS                                      1\n",
       "GUINEA-BISSAU                                 1\n",
       "KOREA, DEMOCRATIC PEOPLE'S REPUBLIC OF        1\n",
       "Name: Destination, Length: 149, dtype: int64"
      ]
     },
     "execution_count": 14,
     "metadata": {},
     "output_type": "execute_result"
    }
   ],
   "source": [
    "travel[\"Destination\"].value_counts(dropna=False)"
   ]
  },
  {
   "cell_type": "code",
   "execution_count": 15,
   "metadata": {},
   "outputs": [
    {
     "data": {
      "text/html": [
       "<div>\n",
       "<style scoped>\n",
       "    .dataframe tbody tr th:only-of-type {\n",
       "        vertical-align: middle;\n",
       "    }\n",
       "\n",
       "    .dataframe tbody tr th {\n",
       "        vertical-align: top;\n",
       "    }\n",
       "\n",
       "    .dataframe thead th {\n",
       "        text-align: right;\n",
       "    }\n",
       "</style>\n",
       "<table border=\"1\" class=\"dataframe\">\n",
       "  <thead>\n",
       "    <tr style=\"text-align: right;\">\n",
       "      <th></th>\n",
       "      <th>Duration</th>\n",
       "      <th>Net Sales</th>\n",
       "      <th>Commision (in value)</th>\n",
       "      <th>Age</th>\n",
       "    </tr>\n",
       "  </thead>\n",
       "  <tbody>\n",
       "    <tr>\n",
       "      <th>count</th>\n",
       "      <td>63326.000000</td>\n",
       "      <td>63326.000000</td>\n",
       "      <td>63326.000000</td>\n",
       "      <td>63326.000000</td>\n",
       "    </tr>\n",
       "    <tr>\n",
       "      <th>mean</th>\n",
       "      <td>49.317074</td>\n",
       "      <td>40.702018</td>\n",
       "      <td>9.809992</td>\n",
       "      <td>39.969981</td>\n",
       "    </tr>\n",
       "    <tr>\n",
       "      <th>std</th>\n",
       "      <td>101.791566</td>\n",
       "      <td>48.845637</td>\n",
       "      <td>19.804388</td>\n",
       "      <td>14.017010</td>\n",
       "    </tr>\n",
       "    <tr>\n",
       "      <th>min</th>\n",
       "      <td>-2.000000</td>\n",
       "      <td>-389.000000</td>\n",
       "      <td>0.000000</td>\n",
       "      <td>0.000000</td>\n",
       "    </tr>\n",
       "    <tr>\n",
       "      <th>25%</th>\n",
       "      <td>9.000000</td>\n",
       "      <td>18.000000</td>\n",
       "      <td>0.000000</td>\n",
       "      <td>35.000000</td>\n",
       "    </tr>\n",
       "    <tr>\n",
       "      <th>50%</th>\n",
       "      <td>22.000000</td>\n",
       "      <td>26.530000</td>\n",
       "      <td>0.000000</td>\n",
       "      <td>36.000000</td>\n",
       "    </tr>\n",
       "    <tr>\n",
       "      <th>75%</th>\n",
       "      <td>53.000000</td>\n",
       "      <td>48.000000</td>\n",
       "      <td>11.550000</td>\n",
       "      <td>43.000000</td>\n",
       "    </tr>\n",
       "    <tr>\n",
       "      <th>max</th>\n",
       "      <td>4881.000000</td>\n",
       "      <td>810.000000</td>\n",
       "      <td>283.500000</td>\n",
       "      <td>118.000000</td>\n",
       "    </tr>\n",
       "  </tbody>\n",
       "</table>\n",
       "</div>"
      ],
      "text/plain": [
       "           Duration     Net Sales  Commision (in value)           Age\n",
       "count  63326.000000  63326.000000          63326.000000  63326.000000\n",
       "mean      49.317074     40.702018              9.809992     39.969981\n",
       "std      101.791566     48.845637             19.804388     14.017010\n",
       "min       -2.000000   -389.000000              0.000000      0.000000\n",
       "25%        9.000000     18.000000              0.000000     35.000000\n",
       "50%       22.000000     26.530000              0.000000     36.000000\n",
       "75%       53.000000     48.000000             11.550000     43.000000\n",
       "max     4881.000000    810.000000            283.500000    118.000000"
      ]
     },
     "execution_count": 15,
     "metadata": {},
     "output_type": "execute_result"
    }
   ],
   "source": [
    "# Check for the maximum and minimum values to see if there are any invalid.\n",
    "\n",
    "travel.describe()"
   ]
  },
  {
   "cell_type": "code",
   "execution_count": 16,
   "metadata": {},
   "outputs": [
    {
     "data": {
      "text/plain": [
       "0.007895651075387677"
      ]
     },
     "execution_count": 16,
     "metadata": {},
     "output_type": "execute_result"
    }
   ],
   "source": [
    "# Calculate % of negative Duration Travels\n",
    "\n",
    "(travel['Duration'] < 0).sum()/travel.shape[0]*100"
   ]
  },
  {
   "cell_type": "code",
   "execution_count": 17,
   "metadata": {},
   "outputs": [
    {
     "data": {
      "text/plain": [
       "0.02368695322616303"
      ]
     },
     "execution_count": 17,
     "metadata": {},
     "output_type": "execute_result"
    }
   ],
   "source": [
    "(travel['Duration'] > 731).sum()/travel.shape[0]*100"
   ]
  },
  {
   "cell_type": "code",
   "execution_count": 18,
   "metadata": {},
   "outputs": [
    {
     "data": {
      "text/plain": [
       "1.5538641316362947"
      ]
     },
     "execution_count": 18,
     "metadata": {},
     "output_type": "execute_result"
    }
   ],
   "source": [
    "# Now check the weightage of Age\n",
    "(travel['Age'] > 99).sum()/travel.shape[0]*100"
   ]
  },
  {
   "cell_type": "code",
   "execution_count": 19,
   "metadata": {},
   "outputs": [],
   "source": [
    "# define a function to make age groups as children, adults and senior\n",
    "\n",
    "def age_convert(age):\n",
    "    result = ''\n",
    "    if(age <= 21):\n",
    "        result = 'Child'\n",
    "    elif(age <= 50):\n",
    "        result = 'Adult'\n",
    "    else:\n",
    "        result = 'Senior'\n",
    "    return result"
   ]
  },
  {
   "cell_type": "code",
   "execution_count": 20,
   "metadata": {},
   "outputs": [],
   "source": [
    "# Write a function for data preprocessing\n",
    "\n",
    "def data_pre_processing(df):\n",
    "    # Add a new column in the Database as Age Group\n",
    "\n",
    "    df['Age Group'] = df['Age'].map(lambda x: age_convert(x))\n",
    "\n",
    "    # Dropping Feature Gender\n",
    "    df.drop('Gender',axis =1, inplace=True)\n",
    "    \n",
    "    # Since the minimum duration that any travel can have is 1 day thus we impute it by the column median.\n",
    "    df['Duration'][df['Duration'] < 0] = df['Duration'].median()\n",
    "\n",
    "    # As we observed duration of any travel cannot be more than 731 we will impute it as 731.\n",
    "    df['Duration'][df['Duration'] > 731] = 731\n",
    "    \n",
    "    # replacing the values that is greater than 99 with the mean of Senior Age\n",
    "    df['Age'][df['Age'] > 99] = df[df['Age Group'] == 'Senior']['Age'].mean()"
   ]
  },
  {
   "cell_type": "code",
   "execution_count": 21,
   "metadata": {},
   "outputs": [
    {
     "name": "stderr",
     "output_type": "stream",
     "text": [
      "C:\\Users\\Saurabh\\Anaconda3\\lib\\site-packages\\ipykernel_launcher.py:12: SettingWithCopyWarning: \n",
      "A value is trying to be set on a copy of a slice from a DataFrame\n",
      "\n",
      "See the caveats in the documentation: https://pandas.pydata.org/pandas-docs/stable/user_guide/indexing.html#returning-a-view-versus-a-copy\n",
      "  if sys.path[0] == '':\n",
      "C:\\Users\\Saurabh\\Anaconda3\\lib\\site-packages\\ipykernel_launcher.py:18: SettingWithCopyWarning: \n",
      "A value is trying to be set on a copy of a slice from a DataFrame\n",
      "\n",
      "See the caveats in the documentation: https://pandas.pydata.org/pandas-docs/stable/user_guide/indexing.html#returning-a-view-versus-a-copy\n"
     ]
    }
   ],
   "source": [
    "data_pre_processing(travel)"
   ]
  },
  {
   "cell_type": "code",
   "execution_count": 22,
   "metadata": {},
   "outputs": [
    {
     "data": {
      "text/html": [
       "<div>\n",
       "<style scoped>\n",
       "    .dataframe tbody tr th:only-of-type {\n",
       "        vertical-align: middle;\n",
       "    }\n",
       "\n",
       "    .dataframe tbody tr th {\n",
       "        vertical-align: top;\n",
       "    }\n",
       "\n",
       "    .dataframe thead th {\n",
       "        text-align: right;\n",
       "    }\n",
       "</style>\n",
       "<table border=\"1\" class=\"dataframe\">\n",
       "  <thead>\n",
       "    <tr style=\"text-align: right;\">\n",
       "      <th></th>\n",
       "      <th>Duration</th>\n",
       "      <th>Net Sales</th>\n",
       "      <th>Commision (in value)</th>\n",
       "      <th>Age</th>\n",
       "    </tr>\n",
       "  </thead>\n",
       "  <tbody>\n",
       "    <tr>\n",
       "      <th>count</th>\n",
       "      <td>63326.000000</td>\n",
       "      <td>63326.000000</td>\n",
       "      <td>63326.000000</td>\n",
       "      <td>63326.000000</td>\n",
       "    </tr>\n",
       "    <tr>\n",
       "      <th>mean</th>\n",
       "      <td>48.427281</td>\n",
       "      <td>40.702018</td>\n",
       "      <td>9.809992</td>\n",
       "      <td>39.158661</td>\n",
       "    </tr>\n",
       "    <tr>\n",
       "      <th>std</th>\n",
       "      <td>74.485447</td>\n",
       "      <td>48.845637</td>\n",
       "      <td>19.804388</td>\n",
       "      <td>10.562380</td>\n",
       "    </tr>\n",
       "    <tr>\n",
       "      <th>min</th>\n",
       "      <td>0.000000</td>\n",
       "      <td>-389.000000</td>\n",
       "      <td>0.000000</td>\n",
       "      <td>0.000000</td>\n",
       "    </tr>\n",
       "    <tr>\n",
       "      <th>25%</th>\n",
       "      <td>9.000000</td>\n",
       "      <td>18.000000</td>\n",
       "      <td>0.000000</td>\n",
       "      <td>35.000000</td>\n",
       "    </tr>\n",
       "    <tr>\n",
       "      <th>50%</th>\n",
       "      <td>22.000000</td>\n",
       "      <td>26.530000</td>\n",
       "      <td>0.000000</td>\n",
       "      <td>36.000000</td>\n",
       "    </tr>\n",
       "    <tr>\n",
       "      <th>75%</th>\n",
       "      <td>53.000000</td>\n",
       "      <td>48.000000</td>\n",
       "      <td>11.550000</td>\n",
       "      <td>43.000000</td>\n",
       "    </tr>\n",
       "    <tr>\n",
       "      <th>max</th>\n",
       "      <td>731.000000</td>\n",
       "      <td>810.000000</td>\n",
       "      <td>283.500000</td>\n",
       "      <td>88.000000</td>\n",
       "    </tr>\n",
       "  </tbody>\n",
       "</table>\n",
       "</div>"
      ],
      "text/plain": [
       "           Duration     Net Sales  Commision (in value)           Age\n",
       "count  63326.000000  63326.000000          63326.000000  63326.000000\n",
       "mean      48.427281     40.702018              9.809992     39.158661\n",
       "std       74.485447     48.845637             19.804388     10.562380\n",
       "min        0.000000   -389.000000              0.000000      0.000000\n",
       "25%        9.000000     18.000000              0.000000     35.000000\n",
       "50%       22.000000     26.530000              0.000000     36.000000\n",
       "75%       53.000000     48.000000             11.550000     43.000000\n",
       "max      731.000000    810.000000            283.500000     88.000000"
      ]
     },
     "execution_count": 22,
     "metadata": {},
     "output_type": "execute_result"
    }
   ],
   "source": [
    "travel.describe()"
   ]
  },
  {
   "cell_type": "code",
   "execution_count": 23,
   "metadata": {},
   "outputs": [],
   "source": [
    "# Creating a dataframe dropping the features with datatype Object\n",
    "\n",
    "travel_plot = travel.drop(['Agency','Agency Type','Destination','Distribution Channel','Product Name','Claim'], axis = 1)"
   ]
  },
  {
   "cell_type": "code",
   "execution_count": 24,
   "metadata": {},
   "outputs": [
    {
     "data": {
      "image/png": "[encoded data removed]",
      "text/plain": [
       "<Figure size 1440x1440 with 8 Axes>"
      ]
     },
     "metadata": {
      "needs_background": "light"
     },
     "output_type": "display_data"
    }
   ],
   "source": [
    "# box and whisker plots\n",
    "\n",
    "travel_plot.plot(kind='box', subplots=True, layout=(2,4), sharex=False, sharey=False, figsize=(20,20),color='blue')\n",
    "plt.show()"
   ]
  },
  {
   "cell_type": "code",
   "execution_count": 25,
   "metadata": {},
   "outputs": [
    {
     "data": {
      "image/png": "[encoded data removed]",
      "text/plain": [
       "<Figure size 1440x360 with 4 Axes>"
      ]
     },
     "metadata": {
      "needs_background": "light"
     },
     "output_type": "display_data"
    }
   ],
   "source": [
    "travel_plot.hist(grid=False,sharex=False,sharey=False,figsize=(20,5),layout=(1,4))\n",
    "plt.show()"
   ]
  },
  {
   "cell_type": "code",
   "execution_count": 26,
   "metadata": {},
   "outputs": [
    {
     "data": {
      "text/html": [
       "<div>\n",
       "<style scoped>\n",
       "    .dataframe tbody tr th:only-of-type {\n",
       "        vertical-align: middle;\n",
       "    }\n",
       "\n",
       "    .dataframe tbody tr th {\n",
       "        vertical-align: top;\n",
       "    }\n",
       "\n",
       "    .dataframe thead th {\n",
       "        text-align: right;\n",
       "    }\n",
       "</style>\n",
       "<table border=\"1\" class=\"dataframe\">\n",
       "  <thead>\n",
       "    <tr style=\"text-align: right;\">\n",
       "      <th>Claim</th>\n",
       "      <th>No</th>\n",
       "      <th>Yes</th>\n",
       "      <th>All</th>\n",
       "      <th>mean commision</th>\n",
       "    </tr>\n",
       "    <tr>\n",
       "      <th>Agency</th>\n",
       "      <th></th>\n",
       "      <th></th>\n",
       "      <th></th>\n",
       "      <th></th>\n",
       "    </tr>\n",
       "  </thead>\n",
       "  <tbody>\n",
       "    <tr>\n",
       "      <th>ADM</th>\n",
       "      <td>100.000000</td>\n",
       "      <td>0.000000</td>\n",
       "      <td>100.0</td>\n",
       "      <td>38.254878</td>\n",
       "    </tr>\n",
       "    <tr>\n",
       "      <th>ART</th>\n",
       "      <td>99.697885</td>\n",
       "      <td>0.302115</td>\n",
       "      <td>100.0</td>\n",
       "      <td>10.553927</td>\n",
       "    </tr>\n",
       "    <tr>\n",
       "      <th>C2B</th>\n",
       "      <td>93.383331</td>\n",
       "      <td>6.616669</td>\n",
       "      <td>100.0</td>\n",
       "      <td>20.533124</td>\n",
       "    </tr>\n",
       "    <tr>\n",
       "      <th>CBH</th>\n",
       "      <td>99.009901</td>\n",
       "      <td>0.990099</td>\n",
       "      <td>100.0</td>\n",
       "      <td>10.030693</td>\n",
       "    </tr>\n",
       "    <tr>\n",
       "      <th>CCR</th>\n",
       "      <td>98.453608</td>\n",
       "      <td>1.546392</td>\n",
       "      <td>100.0</td>\n",
       "      <td>10.313351</td>\n",
       "    </tr>\n",
       "    <tr>\n",
       "      <th>CSR</th>\n",
       "      <td>98.837209</td>\n",
       "      <td>1.162791</td>\n",
       "      <td>100.0</td>\n",
       "      <td>10.824767</td>\n",
       "    </tr>\n",
       "    <tr>\n",
       "      <th>CWT</th>\n",
       "      <td>98.997669</td>\n",
       "      <td>1.002331</td>\n",
       "      <td>100.0</td>\n",
       "      <td>32.380615</td>\n",
       "    </tr>\n",
       "    <tr>\n",
       "      <th>EPX</th>\n",
       "      <td>99.444745</td>\n",
       "      <td>0.555255</td>\n",
       "      <td>100.0</td>\n",
       "      <td>0.000000</td>\n",
       "    </tr>\n",
       "    <tr>\n",
       "      <th>JWT</th>\n",
       "      <td>99.465955</td>\n",
       "      <td>0.534045</td>\n",
       "      <td>100.0</td>\n",
       "      <td>21.640053</td>\n",
       "    </tr>\n",
       "    <tr>\n",
       "      <th>JZI</th>\n",
       "      <td>99.510191</td>\n",
       "      <td>0.489809</td>\n",
       "      <td>100.0</td>\n",
       "      <td>11.766669</td>\n",
       "    </tr>\n",
       "    <tr>\n",
       "      <th>KML</th>\n",
       "      <td>97.959184</td>\n",
       "      <td>2.040816</td>\n",
       "      <td>100.0</td>\n",
       "      <td>21.812194</td>\n",
       "    </tr>\n",
       "    <tr>\n",
       "      <th>LWC</th>\n",
       "      <td>94.775036</td>\n",
       "      <td>5.224964</td>\n",
       "      <td>100.0</td>\n",
       "      <td>74.265791</td>\n",
       "    </tr>\n",
       "    <tr>\n",
       "      <th>RAB</th>\n",
       "      <td>99.862069</td>\n",
       "      <td>0.137931</td>\n",
       "      <td>100.0</td>\n",
       "      <td>7.226483</td>\n",
       "    </tr>\n",
       "    <tr>\n",
       "      <th>SSI</th>\n",
       "      <td>99.337121</td>\n",
       "      <td>0.662879</td>\n",
       "      <td>100.0</td>\n",
       "      <td>1.784886</td>\n",
       "    </tr>\n",
       "    <tr>\n",
       "      <th>TST</th>\n",
       "      <td>99.621212</td>\n",
       "      <td>0.378788</td>\n",
       "      <td>100.0</td>\n",
       "      <td>10.523201</td>\n",
       "    </tr>\n",
       "    <tr>\n",
       "      <th>TTW</th>\n",
       "      <td>95.918367</td>\n",
       "      <td>4.081633</td>\n",
       "      <td>100.0</td>\n",
       "      <td>0.000000</td>\n",
       "    </tr>\n",
       "  </tbody>\n",
       "</table>\n",
       "</div>"
      ],
      "text/plain": [
       "Claim           No       Yes    All  mean commision\n",
       "Agency                                             \n",
       "ADM     100.000000  0.000000  100.0       38.254878\n",
       "ART      99.697885  0.302115  100.0       10.553927\n",
       "C2B      93.383331  6.616669  100.0       20.533124\n",
       "CBH      99.009901  0.990099  100.0       10.030693\n",
       "CCR      98.453608  1.546392  100.0       10.313351\n",
       "CSR      98.837209  1.162791  100.0       10.824767\n",
       "CWT      98.997669  1.002331  100.0       32.380615\n",
       "EPX      99.444745  0.555255  100.0        0.000000\n",
       "JWT      99.465955  0.534045  100.0       21.640053\n",
       "JZI      99.510191  0.489809  100.0       11.766669\n",
       "KML      97.959184  2.040816  100.0       21.812194\n",
       "LWC      94.775036  5.224964  100.0       74.265791\n",
       "RAB      99.862069  0.137931  100.0        7.226483\n",
       "SSI      99.337121  0.662879  100.0        1.784886\n",
       "TST      99.621212  0.378788  100.0       10.523201\n",
       "TTW      95.918367  4.081633  100.0        0.000000"
      ]
     },
     "execution_count": 26,
     "metadata": {},
     "output_type": "execute_result"
    }
   ],
   "source": [
    "table1=pd.crosstab(travel['Agency'],travel['Claim'],margins=True)\n",
    "\n",
    "table1.drop(index=['All'],inplace=True)\n",
    "table1=(table1.div(table1['All'],axis=0))*100\n",
    "\n",
    "table1['mean commision']=travel.groupby('Agency')['Commision (in value)'].mean()\n",
    "table1"
   ]
  },
  {
   "cell_type": "code",
   "execution_count": 27,
   "metadata": {},
   "outputs": [
    {
     "data": {
      "text/plain": [
       "<matplotlib.axes._subplots.AxesSubplot at 0xbbf6cef208>"
      ]
     },
     "execution_count": 27,
     "metadata": {},
     "output_type": "execute_result"
    },
    {
     "data": {
      "image/png": "[encoded data removed]",
      "text/plain": [
       "<Figure size 1296x648 with 2 Axes>"
      ]
     },
     "metadata": {
      "needs_background": "light"
     },
     "output_type": "display_data"
    }
   ],
   "source": [
    "fig,ax1=plt.subplots(figsize=(18,9))\n",
    "sns.barplot(table1.index,table1.Yes,ax=ax1)\n",
    "plt.xticks(rotation=90)\n",
    "ax1.set(ylabel='Acceptance %')\n",
    "ax2=ax1.twinx()\n",
    "sns.lineplot(table1.index,table1['mean commision'],ax=ax2,linewidth=3)"
   ]
  },
  {
   "cell_type": "code",
   "execution_count": 28,
   "metadata": {},
   "outputs": [
    {
     "data": {
      "text/html": [
       "<div>\n",
       "<style scoped>\n",
       "    .dataframe tbody tr th:only-of-type {\n",
       "        vertical-align: middle;\n",
       "    }\n",
       "\n",
       "    .dataframe tbody tr th {\n",
       "        vertical-align: top;\n",
       "    }\n",
       "\n",
       "    .dataframe thead th {\n",
       "        text-align: right;\n",
       "    }\n",
       "</style>\n",
       "<table border=\"1\" class=\"dataframe\">\n",
       "  <thead>\n",
       "    <tr style=\"text-align: right;\">\n",
       "      <th></th>\n",
       "      <th>Agency</th>\n",
       "      <th>Net Sales</th>\n",
       "    </tr>\n",
       "  </thead>\n",
       "  <tbody>\n",
       "    <tr>\n",
       "      <th>11</th>\n",
       "      <td>LWC</td>\n",
       "      <td>111.510813</td>\n",
       "    </tr>\n",
       "    <tr>\n",
       "      <th>15</th>\n",
       "      <td>TTW</td>\n",
       "      <td>93.204082</td>\n",
       "    </tr>\n",
       "    <tr>\n",
       "      <th>2</th>\n",
       "      <td>C2B</td>\n",
       "      <td>78.865811</td>\n",
       "    </tr>\n",
       "    <tr>\n",
       "      <th>10</th>\n",
       "      <td>KML</td>\n",
       "      <td>55.448980</td>\n",
       "    </tr>\n",
       "    <tr>\n",
       "      <th>0</th>\n",
       "      <td>ADM</td>\n",
       "      <td>53.256098</td>\n",
       "    </tr>\n",
       "    <tr>\n",
       "      <th>8</th>\n",
       "      <td>JWT</td>\n",
       "      <td>53.012016</td>\n",
       "    </tr>\n",
       "    <tr>\n",
       "      <th>6</th>\n",
       "      <td>CWT</td>\n",
       "      <td>43.040769</td>\n",
       "    </tr>\n",
       "    <tr>\n",
       "      <th>5</th>\n",
       "      <td>CSR</td>\n",
       "      <td>32.802326</td>\n",
       "    </tr>\n",
       "    <tr>\n",
       "      <th>7</th>\n",
       "      <td>EPX</td>\n",
       "      <td>32.564993</td>\n",
       "    </tr>\n",
       "    <tr>\n",
       "      <th>9</th>\n",
       "      <td>JZI</td>\n",
       "      <td>32.338442</td>\n",
       "    </tr>\n",
       "  </tbody>\n",
       "</table>\n",
       "</div>"
      ],
      "text/plain": [
       "   Agency   Net Sales\n",
       "11    LWC  111.510813\n",
       "15    TTW   93.204082\n",
       "2     C2B   78.865811\n",
       "10    KML   55.448980\n",
       "0     ADM   53.256098\n",
       "8     JWT   53.012016\n",
       "6     CWT   43.040769\n",
       "5     CSR   32.802326\n",
       "7     EPX   32.564993\n",
       "9     JZI   32.338442"
      ]
     },
     "execution_count": 28,
     "metadata": {},
     "output_type": "execute_result"
    }
   ],
   "source": [
    "netsales_mean = (travel.groupby('Agency', as_index=False)['Net Sales'].mean()).nlargest(10,'Net Sales')\n",
    "netsales_mean"
   ]
  },
  {
   "cell_type": "code",
   "execution_count": 29,
   "metadata": {},
   "outputs": [
    {
     "data": {
      "image/png": "[encoded data removed]",
      "text/plain": [
       "<Figure size 576x432 with 1 Axes>"
      ]
     },
     "metadata": {
      "needs_background": "light"
     },
     "output_type": "display_data"
    }
   ],
   "source": [
    "ax1 = netsales_mean.plot.bar(x='Agency', y='Net Sales', rot=0)"
   ]
  },
  {
   "cell_type": "code",
   "execution_count": 30,
   "metadata": {},
   "outputs": [
    {
     "data": {
      "text/html": [
       "<div>\n",
       "<style scoped>\n",
       "    .dataframe tbody tr th:only-of-type {\n",
       "        vertical-align: middle;\n",
       "    }\n",
       "\n",
       "    .dataframe tbody tr th {\n",
       "        vertical-align: top;\n",
       "    }\n",
       "\n",
       "    .dataframe thead th {\n",
       "        text-align: right;\n",
       "    }\n",
       "</style>\n",
       "<table border=\"1\" class=\"dataframe\">\n",
       "  <thead>\n",
       "    <tr style=\"text-align: right;\">\n",
       "      <th>Claim</th>\n",
       "      <th>No</th>\n",
       "      <th>Yes</th>\n",
       "      <th>All</th>\n",
       "      <th>mean commision</th>\n",
       "    </tr>\n",
       "    <tr>\n",
       "      <th>Product Name</th>\n",
       "      <th></th>\n",
       "      <th></th>\n",
       "      <th></th>\n",
       "      <th></th>\n",
       "    </tr>\n",
       "  </thead>\n",
       "  <tbody>\n",
       "    <tr>\n",
       "      <th>1 way Comprehensive Plan</th>\n",
       "      <td>99.729811</td>\n",
       "      <td>0.270189</td>\n",
       "      <td>100.0</td>\n",
       "      <td>0.000000</td>\n",
       "    </tr>\n",
       "    <tr>\n",
       "      <th>2 way Comprehensive Plan</th>\n",
       "      <td>98.920809</td>\n",
       "      <td>1.079191</td>\n",
       "      <td>100.0</td>\n",
       "      <td>0.000000</td>\n",
       "    </tr>\n",
       "    <tr>\n",
       "      <th>24 Protect</th>\n",
       "      <td>100.000000</td>\n",
       "      <td>0.000000</td>\n",
       "      <td>100.0</td>\n",
       "      <td>8.511943</td>\n",
       "    </tr>\n",
       "    <tr>\n",
       "      <th>Annual Gold Plan</th>\n",
       "      <td>89.175258</td>\n",
       "      <td>10.824742</td>\n",
       "      <td>100.0</td>\n",
       "      <td>88.920619</td>\n",
       "    </tr>\n",
       "    <tr>\n",
       "      <th>Annual Silver Plan</th>\n",
       "      <td>88.966971</td>\n",
       "      <td>11.033029</td>\n",
       "      <td>100.0</td>\n",
       "      <td>56.985200</td>\n",
       "    </tr>\n",
       "    <tr>\n",
       "      <th>Annual Travel Protect Gold</th>\n",
       "      <td>90.000000</td>\n",
       "      <td>10.000000</td>\n",
       "      <td>100.0</td>\n",
       "      <td>161.536200</td>\n",
       "    </tr>\n",
       "    <tr>\n",
       "      <th>Annual Travel Protect Platinum</th>\n",
       "      <td>94.339623</td>\n",
       "      <td>5.660377</td>\n",
       "      <td>100.0</td>\n",
       "      <td>215.935849</td>\n",
       "    </tr>\n",
       "    <tr>\n",
       "      <th>Annual Travel Protect Silver</th>\n",
       "      <td>95.348837</td>\n",
       "      <td>4.651163</td>\n",
       "      <td>100.0</td>\n",
       "      <td>136.168837</td>\n",
       "    </tr>\n",
       "    <tr>\n",
       "      <th>Basic Plan</th>\n",
       "      <td>99.579448</td>\n",
       "      <td>0.420552</td>\n",
       "      <td>100.0</td>\n",
       "      <td>9.537676</td>\n",
       "    </tr>\n",
       "    <tr>\n",
       "      <th>Bronze Plan</th>\n",
       "      <td>94.813534</td>\n",
       "      <td>5.186466</td>\n",
       "      <td>100.0</td>\n",
       "      <td>8.600709</td>\n",
       "    </tr>\n",
       "    <tr>\n",
       "      <th>Cancellation Plan</th>\n",
       "      <td>99.763822</td>\n",
       "      <td>0.236178</td>\n",
       "      <td>100.0</td>\n",
       "      <td>0.000000</td>\n",
       "    </tr>\n",
       "    <tr>\n",
       "      <th>Child Comprehensive Plan</th>\n",
       "      <td>100.000000</td>\n",
       "      <td>0.000000</td>\n",
       "      <td>100.0</td>\n",
       "      <td>0.000000</td>\n",
       "    </tr>\n",
       "    <tr>\n",
       "      <th>Comprehensive Plan</th>\n",
       "      <td>98.626374</td>\n",
       "      <td>1.373626</td>\n",
       "      <td>100.0</td>\n",
       "      <td>9.910879</td>\n",
       "    </tr>\n",
       "    <tr>\n",
       "      <th>Gold Plan</th>\n",
       "      <td>94.886364</td>\n",
       "      <td>5.113636</td>\n",
       "      <td>100.0</td>\n",
       "      <td>21.437159</td>\n",
       "    </tr>\n",
       "    <tr>\n",
       "      <th>Individual Comprehensive Plan</th>\n",
       "      <td>95.945946</td>\n",
       "      <td>4.054054</td>\n",
       "      <td>100.0</td>\n",
       "      <td>0.000000</td>\n",
       "    </tr>\n",
       "    <tr>\n",
       "      <th>Premier Plan</th>\n",
       "      <td>98.453608</td>\n",
       "      <td>1.546392</td>\n",
       "      <td>100.0</td>\n",
       "      <td>29.502371</td>\n",
       "    </tr>\n",
       "    <tr>\n",
       "      <th>Rental Vehicle Excess Insurance</th>\n",
       "      <td>98.997669</td>\n",
       "      <td>1.002331</td>\n",
       "      <td>100.0</td>\n",
       "      <td>32.380615</td>\n",
       "    </tr>\n",
       "    <tr>\n",
       "      <th>Silver Plan</th>\n",
       "      <td>93.730547</td>\n",
       "      <td>6.269453</td>\n",
       "      <td>100.0</td>\n",
       "      <td>12.910916</td>\n",
       "    </tr>\n",
       "    <tr>\n",
       "      <th>Single Trip Travel Protect Gold</th>\n",
       "      <td>95.098039</td>\n",
       "      <td>4.901961</td>\n",
       "      <td>100.0</td>\n",
       "      <td>27.531618</td>\n",
       "    </tr>\n",
       "    <tr>\n",
       "      <th>Single Trip Travel Protect Platinum</th>\n",
       "      <td>93.150685</td>\n",
       "      <td>6.849315</td>\n",
       "      <td>100.0</td>\n",
       "      <td>29.843014</td>\n",
       "    </tr>\n",
       "    <tr>\n",
       "      <th>Single Trip Travel Protect Silver</th>\n",
       "      <td>97.687861</td>\n",
       "      <td>2.312139</td>\n",
       "      <td>100.0</td>\n",
       "      <td>23.499422</td>\n",
       "    </tr>\n",
       "    <tr>\n",
       "      <th>Spouse or Parents Comprehensive Plan</th>\n",
       "      <td>93.333333</td>\n",
       "      <td>6.666667</td>\n",
       "      <td>100.0</td>\n",
       "      <td>0.000000</td>\n",
       "    </tr>\n",
       "    <tr>\n",
       "      <th>Ticket Protector</th>\n",
       "      <td>99.337121</td>\n",
       "      <td>0.662879</td>\n",
       "      <td>100.0</td>\n",
       "      <td>1.784886</td>\n",
       "    </tr>\n",
       "    <tr>\n",
       "      <th>Travel Cruise Protect</th>\n",
       "      <td>99.620493</td>\n",
       "      <td>0.379507</td>\n",
       "      <td>100.0</td>\n",
       "      <td>10.500000</td>\n",
       "    </tr>\n",
       "    <tr>\n",
       "      <th>Travel Cruise Protect Family</th>\n",
       "      <td>100.000000</td>\n",
       "      <td>0.000000</td>\n",
       "      <td>100.0</td>\n",
       "      <td>22.750000</td>\n",
       "    </tr>\n",
       "    <tr>\n",
       "      <th>Value Plan</th>\n",
       "      <td>99.300184</td>\n",
       "      <td>0.699816</td>\n",
       "      <td>100.0</td>\n",
       "      <td>18.950011</td>\n",
       "    </tr>\n",
       "  </tbody>\n",
       "</table>\n",
       "</div>"
      ],
      "text/plain": [
       "Claim                                         No        Yes    All  \\\n",
       "Product Name                                                         \n",
       "1 way Comprehensive Plan               99.729811   0.270189  100.0   \n",
       "2 way Comprehensive Plan               98.920809   1.079191  100.0   \n",
       "24 Protect                            100.000000   0.000000  100.0   \n",
       "Annual Gold Plan                       89.175258  10.824742  100.0   \n",
       "Annual Silver Plan                     88.966971  11.033029  100.0   \n",
       "Annual Travel Protect Gold             90.000000  10.000000  100.0   \n",
       "Annual Travel Protect Platinum         94.339623   5.660377  100.0   \n",
       "Annual Travel Protect Silver           95.348837   4.651163  100.0   \n",
       "Basic Plan                             99.579448   0.420552  100.0   \n",
       "Bronze Plan                            94.813534   5.186466  100.0   \n",
       "Cancellation Plan                      99.763822   0.236178  100.0   \n",
       "Child Comprehensive Plan              100.000000   0.000000  100.0   \n",
       "Comprehensive Plan                     98.626374   1.373626  100.0   \n",
       "Gold Plan                              94.886364   5.113636  100.0   \n",
       "Individual Comprehensive Plan          95.945946   4.054054  100.0   \n",
       "Premier Plan                           98.453608   1.546392  100.0   \n",
       "Rental Vehicle Excess Insurance        98.997669   1.002331  100.0   \n",
       "Silver Plan                            93.730547   6.269453  100.0   \n",
       "Single Trip Travel Protect Gold        95.098039   4.901961  100.0   \n",
       "Single Trip Travel Protect Platinum    93.150685   6.849315  100.0   \n",
       "Single Trip Travel Protect Silver      97.687861   2.312139  100.0   \n",
       "Spouse or Parents Comprehensive Plan   93.333333   6.666667  100.0   \n",
       "Ticket Protector                       99.337121   0.662879  100.0   \n",
       "Travel Cruise Protect                  99.620493   0.379507  100.0   \n",
       "Travel Cruise Protect Family          100.000000   0.000000  100.0   \n",
       "Value Plan                             99.300184   0.699816  100.0   \n",
       "\n",
       "Claim                                 mean commision  \n",
       "Product Name                                          \n",
       "1 way Comprehensive Plan                    0.000000  \n",
       "2 way Comprehensive Plan                    0.000000  \n",
       "24 Protect                                  8.511943  \n",
       "Annual Gold Plan                           88.920619  \n",
       "Annual Silver Plan                         56.985200  \n",
       "Annual Travel Protect Gold                161.536200  \n",
       "Annual Travel Protect Platinum            215.935849  \n",
       "Annual Travel Protect Silver              136.168837  \n",
       "Basic Plan                                  9.537676  \n",
       "Bronze Plan                                 8.600709  \n",
       "Cancellation Plan                           0.000000  \n",
       "Child Comprehensive Plan                    0.000000  \n",
       "Comprehensive Plan                          9.910879  \n",
       "Gold Plan                                  21.437159  \n",
       "Individual Comprehensive Plan               0.000000  \n",
       "Premier Plan                               29.502371  \n",
       "Rental Vehicle Excess Insurance            32.380615  \n",
       "Silver Plan                                12.910916  \n",
       "Single Trip Travel Protect Gold            27.531618  \n",
       "Single Trip Travel Protect Platinum        29.843014  \n",
       "Single Trip Travel Protect Silver          23.499422  \n",
       "Spouse or Parents Comprehensive Plan        0.000000  \n",
       "Ticket Protector                            1.784886  \n",
       "Travel Cruise Protect                      10.500000  \n",
       "Travel Cruise Protect Family               22.750000  \n",
       "Value Plan                                 18.950011  "
      ]
     },
     "execution_count": 30,
     "metadata": {},
     "output_type": "execute_result"
    }
   ],
   "source": [
    "table2=pd.crosstab(travel['Product Name'],travel['Claim'],margins=True)\n",
    "table2=(table2.div(table2['All'],axis=0))*100\n",
    "\n",
    "table2['mean commision']=travel.groupby('Product Name')['Commision (in value)'].mean()\n",
    "table2.drop(index=['All'],inplace=True)\n",
    "table2"
   ]
  },
  {
   "cell_type": "code",
   "execution_count": 31,
   "metadata": {},
   "outputs": [
    {
     "data": {
      "text/plain": [
       "<matplotlib.axes._subplots.AxesSubplot at 0xbbf6d34da0>"
      ]
     },
     "execution_count": 31,
     "metadata": {},
     "output_type": "execute_result"
    },
    {
     "data": {
      "image/png": "[encoded data removed]",
      "text/plain": [
       "<Figure size 1440x792 with 2 Axes>"
      ]
     },
     "metadata": {
      "needs_background": "light"
     },
     "output_type": "display_data"
    }
   ],
   "source": [
    "fig,ax1=plt.subplots(figsize=(20,11))\n",
    "sns.barplot(table2.index,table2.Yes,ax=ax1)\n",
    "plt.xticks(rotation=90)\n",
    "ax1.set(ylabel='Acceptance %')\n",
    "ax2=ax1.twinx()\n",
    "sns.lineplot(table2.index,table2['mean commision'],ax=ax2,linewidth=3)"
   ]
  },
  {
   "cell_type": "code",
   "execution_count": 32,
   "metadata": {},
   "outputs": [
    {
     "data": {
      "text/html": [
       "<div>\n",
       "<style scoped>\n",
       "    .dataframe tbody tr th:only-of-type {\n",
       "        vertical-align: middle;\n",
       "    }\n",
       "\n",
       "    .dataframe tbody tr th {\n",
       "        vertical-align: top;\n",
       "    }\n",
       "\n",
       "    .dataframe thead tr th {\n",
       "        text-align: left;\n",
       "    }\n",
       "\n",
       "    .dataframe thead tr:last-of-type th {\n",
       "        text-align: right;\n",
       "    }\n",
       "</style>\n",
       "<table border=\"1\" class=\"dataframe\">\n",
       "  <thead>\n",
       "    <tr>\n",
       "      <th></th>\n",
       "      <th colspan=\"2\" halign=\"left\">Agency</th>\n",
       "    </tr>\n",
       "    <tr>\n",
       "      <th>Claim</th>\n",
       "      <th>No</th>\n",
       "      <th>Yes</th>\n",
       "    </tr>\n",
       "    <tr>\n",
       "      <th>Agency Type</th>\n",
       "      <th></th>\n",
       "      <th></th>\n",
       "    </tr>\n",
       "  </thead>\n",
       "  <tbody>\n",
       "    <tr>\n",
       "      <th>Airlines</th>\n",
       "      <td>16866</td>\n",
       "      <td>591</td>\n",
       "    </tr>\n",
       "    <tr>\n",
       "      <th>Travel Agency</th>\n",
       "      <td>45533</td>\n",
       "      <td>336</td>\n",
       "    </tr>\n",
       "  </tbody>\n",
       "</table>\n",
       "</div>"
      ],
      "text/plain": [
       "              Agency     \n",
       "Claim             No  Yes\n",
       "Agency Type              \n",
       "Airlines       16866  591\n",
       "Travel Agency  45533  336"
      ]
     },
     "execution_count": 32,
     "metadata": {},
     "output_type": "execute_result"
    },
    {
     "data": {
      "image/png": "[encoded data removed]",
      "text/plain": [
       "<Figure size 403.2x288 with 2 Axes>"
      ]
     },
     "metadata": {
      "needs_background": "light"
     },
     "output_type": "display_data"
    }
   ],
   "source": [
    "plot2 = sns.catplot(x=\"Agency Type\", col=\"Claim\",data=travel, kind=\"count\",height=4, aspect=.7)\n",
    "travel.pivot_table(index=['Agency Type'],columns=['Claim'], values=['Agency'], aggfunc='count')"
   ]
  },
  {
   "cell_type": "code",
   "execution_count": 33,
   "metadata": {},
   "outputs": [
    {
     "data": {
      "text/html": [
       "<div>\n",
       "<style scoped>\n",
       "    .dataframe tbody tr th:only-of-type {\n",
       "        vertical-align: middle;\n",
       "    }\n",
       "\n",
       "    .dataframe tbody tr th {\n",
       "        vertical-align: top;\n",
       "    }\n",
       "\n",
       "    .dataframe thead th {\n",
       "        text-align: right;\n",
       "    }\n",
       "</style>\n",
       "<table border=\"1\" class=\"dataframe\">\n",
       "  <thead>\n",
       "    <tr style=\"text-align: right;\">\n",
       "      <th></th>\n",
       "      <th>Net Sales</th>\n",
       "    </tr>\n",
       "    <tr>\n",
       "      <th>Product Name</th>\n",
       "      <th></th>\n",
       "    </tr>\n",
       "  </thead>\n",
       "  <tbody>\n",
       "    <tr>\n",
       "      <th>1 way Comprehensive Plan</th>\n",
       "      <td>27.663464</td>\n",
       "    </tr>\n",
       "    <tr>\n",
       "      <th>2 way Comprehensive Plan</th>\n",
       "      <td>42.511704</td>\n",
       "    </tr>\n",
       "    <tr>\n",
       "      <th>24 Protect</th>\n",
       "      <td>22.772955</td>\n",
       "    </tr>\n",
       "    <tr>\n",
       "      <th>Annual Gold Plan</th>\n",
       "      <td>336.602320</td>\n",
       "    </tr>\n",
       "    <tr>\n",
       "      <th>Annual Silver Plan</th>\n",
       "      <td>218.851307</td>\n",
       "    </tr>\n",
       "    <tr>\n",
       "      <th>Annual Travel Protect Gold</th>\n",
       "      <td>246.940500</td>\n",
       "    </tr>\n",
       "    <tr>\n",
       "      <th>Annual Travel Protect Platinum</th>\n",
       "      <td>332.209434</td>\n",
       "    </tr>\n",
       "    <tr>\n",
       "      <th>Annual Travel Protect Silver</th>\n",
       "      <td>200.596512</td>\n",
       "    </tr>\n",
       "    <tr>\n",
       "      <th>Basic Plan</th>\n",
       "      <td>26.495337</td>\n",
       "    </tr>\n",
       "    <tr>\n",
       "      <th>Bronze Plan</th>\n",
       "      <td>33.238911</td>\n",
       "    </tr>\n",
       "    <tr>\n",
       "      <th>Cancellation Plan</th>\n",
       "      <td>26.416210</td>\n",
       "    </tr>\n",
       "    <tr>\n",
       "      <th>Child Comprehensive Plan</th>\n",
       "      <td>74.000000</td>\n",
       "    </tr>\n",
       "    <tr>\n",
       "      <th>Comprehensive Plan</th>\n",
       "      <td>28.818681</td>\n",
       "    </tr>\n",
       "    <tr>\n",
       "      <th>Gold Plan</th>\n",
       "      <td>79.189489</td>\n",
       "    </tr>\n",
       "    <tr>\n",
       "      <th>Individual Comprehensive Plan</th>\n",
       "      <td>97.000000</td>\n",
       "    </tr>\n",
       "    <tr>\n",
       "      <th>Premier Plan</th>\n",
       "      <td>64.036082</td>\n",
       "    </tr>\n",
       "    <tr>\n",
       "      <th>Rental Vehicle Excess Insurance</th>\n",
       "      <td>43.040769</td>\n",
       "    </tr>\n",
       "    <tr>\n",
       "      <th>Silver Plan</th>\n",
       "      <td>50.154891</td>\n",
       "    </tr>\n",
       "    <tr>\n",
       "      <th>Single Trip Travel Protect Gold</th>\n",
       "      <td>39.539706</td>\n",
       "    </tr>\n",
       "    <tr>\n",
       "      <th>Single Trip Travel Protect Platinum</th>\n",
       "      <td>44.255479</td>\n",
       "    </tr>\n",
       "    <tr>\n",
       "      <th>Single Trip Travel Protect Silver</th>\n",
       "      <td>34.576590</td>\n",
       "    </tr>\n",
       "    <tr>\n",
       "      <th>Spouse or Parents Comprehensive Plan</th>\n",
       "      <td>86.000000</td>\n",
       "    </tr>\n",
       "    <tr>\n",
       "      <th>Ticket Protector</th>\n",
       "      <td>6.365208</td>\n",
       "    </tr>\n",
       "    <tr>\n",
       "      <th>Travel Cruise Protect</th>\n",
       "      <td>29.373814</td>\n",
       "    </tr>\n",
       "    <tr>\n",
       "      <th>Travel Cruise Protect Family</th>\n",
       "      <td>0.000000</td>\n",
       "    </tr>\n",
       "    <tr>\n",
       "      <th>Value Plan</th>\n",
       "      <td>48.237569</td>\n",
       "    </tr>\n",
       "  </tbody>\n",
       "</table>\n",
       "</div>"
      ],
      "text/plain": [
       "                                       Net Sales\n",
       "Product Name                                    \n",
       "1 way Comprehensive Plan               27.663464\n",
       "2 way Comprehensive Plan               42.511704\n",
       "24 Protect                             22.772955\n",
       "Annual Gold Plan                      336.602320\n",
       "Annual Silver Plan                    218.851307\n",
       "Annual Travel Protect Gold            246.940500\n",
       "Annual Travel Protect Platinum        332.209434\n",
       "Annual Travel Protect Silver          200.596512\n",
       "Basic Plan                             26.495337\n",
       "Bronze Plan                            33.238911\n",
       "Cancellation Plan                      26.416210\n",
       "Child Comprehensive Plan               74.000000\n",
       "Comprehensive Plan                     28.818681\n",
       "Gold Plan                              79.189489\n",
       "Individual Comprehensive Plan          97.000000\n",
       "Premier Plan                           64.036082\n",
       "Rental Vehicle Excess Insurance        43.040769\n",
       "Silver Plan                            50.154891\n",
       "Single Trip Travel Protect Gold        39.539706\n",
       "Single Trip Travel Protect Platinum    44.255479\n",
       "Single Trip Travel Protect Silver      34.576590\n",
       "Spouse or Parents Comprehensive Plan   86.000000\n",
       "Ticket Protector                        6.365208\n",
       "Travel Cruise Protect                  29.373814\n",
       "Travel Cruise Protect Family            0.000000\n",
       "Value Plan                             48.237569"
      ]
     },
     "execution_count": 33,
     "metadata": {},
     "output_type": "execute_result"
    }
   ],
   "source": [
    "travel.pivot_table(index = ['Product Name'], values = ['Net Sales'], aggfunc = 'mean')"
   ]
  },
  {
   "cell_type": "code",
   "execution_count": 34,
   "metadata": {},
   "outputs": [
    {
     "data": {
      "text/html": [
       "<div>\n",
       "<style scoped>\n",
       "    .dataframe tbody tr th:only-of-type {\n",
       "        vertical-align: middle;\n",
       "    }\n",
       "\n",
       "    .dataframe tbody tr th {\n",
       "        vertical-align: top;\n",
       "    }\n",
       "\n",
       "    .dataframe thead th {\n",
       "        text-align: right;\n",
       "    }\n",
       "</style>\n",
       "<table border=\"1\" class=\"dataframe\">\n",
       "  <thead>\n",
       "    <tr style=\"text-align: right;\">\n",
       "      <th></th>\n",
       "      <th>Net Sales</th>\n",
       "    </tr>\n",
       "    <tr>\n",
       "      <th>Age Group</th>\n",
       "      <th></th>\n",
       "    </tr>\n",
       "  </thead>\n",
       "  <tbody>\n",
       "    <tr>\n",
       "      <th>Adult</th>\n",
       "      <td>53563</td>\n",
       "    </tr>\n",
       "    <tr>\n",
       "      <th>Child</th>\n",
       "      <td>778</td>\n",
       "    </tr>\n",
       "    <tr>\n",
       "      <th>Senior</th>\n",
       "      <td>8985</td>\n",
       "    </tr>\n",
       "  </tbody>\n",
       "</table>\n",
       "</div>"
      ],
      "text/plain": [
       "           Net Sales\n",
       "Age Group           \n",
       "Adult          53563\n",
       "Child            778\n",
       "Senior          8985"
      ]
     },
     "execution_count": 34,
     "metadata": {},
     "output_type": "execute_result"
    }
   ],
   "source": [
    "travel.pivot_table(index = ['Age Group'], values = ['Net Sales'], aggfunc = 'count')"
   ]
  },
  {
   "cell_type": "code",
   "execution_count": 35,
   "metadata": {},
   "outputs": [
    {
     "data": {
      "text/plain": [
       "Age Group  Claim\n",
       "Adult      No       52791\n",
       "           Yes        772\n",
       "Child      No         761\n",
       "           Yes         17\n",
       "Senior     No        8847\n",
       "           Yes        138\n",
       "Name: Claim, dtype: int64"
      ]
     },
     "execution_count": 35,
     "metadata": {},
     "output_type": "execute_result"
    }
   ],
   "source": [
    "travel.groupby('Age Group')['Claim'].value_counts()"
   ]
  },
  {
   "cell_type": "code",
   "execution_count": 36,
   "metadata": {},
   "outputs": [
    {
     "data": {
      "text/plain": [
       "<seaborn.axisgrid.FacetGrid at 0xbbf66c0208>"
      ]
     },
     "execution_count": 36,
     "metadata": {},
     "output_type": "execute_result"
    },
    {
     "data": {
      "text/plain": [
       "<Figure size 288x288 with 0 Axes>"
      ]
     },
     "metadata": {},
     "output_type": "display_data"
    },
    {
     "data": {
      "image/png": "[encoded data removed]",
      "text/plain": [
       "<Figure size 1080x360 with 3 Axes>"
      ]
     },
     "metadata": {
      "needs_background": "light"
     },
     "output_type": "display_data"
    }
   ],
   "source": [
    "fig = plt.figure(figsize = (4,4))\n",
    "sns.catplot('Claim', col = 'Age Group', data = travel, col_wrap =3, kind='count',sharey=False)"
   ]
  },
  {
   "cell_type": "code",
   "execution_count": 37,
   "metadata": {},
   "outputs": [],
   "source": [
    "# label encoding the data \n",
    "from sklearn.preprocessing import LabelEncoder \n",
    "  \n",
    "le = LabelEncoder() \n",
    "  \n",
    "travel['Agency']= le.fit_transform(travel['Agency']) \n",
    "travel['Agency Type']= le.fit_transform(travel['Agency Type']) \n",
    "travel['Distribution Channel']= le.fit_transform(travel['Distribution Channel']) \n",
    "travel['Product Name']= le.fit_transform(travel['Product Name']) \n",
    "travel['Age Group']= le.fit_transform(travel['Age Group'])\n",
    "travel['Claim']= le.fit_transform(travel['Claim'])"
   ]
  },
  {
   "cell_type": "code",
   "execution_count": 38,
   "metadata": {},
   "outputs": [
    {
     "data": {
      "text/plain": [
       "Agency                 -0.121685\n",
       "Agency Type            -0.098706\n",
       "Age                    -0.012551\n",
       "Distribution Channel   -0.000798\n",
       "Product Name            0.000679\n",
       "Age Group               0.003478\n",
       "Commision (in value)    0.098696\n",
       "Duration                0.102046\n",
       "Net Sales               0.133931\n",
       "Claim                   1.000000\n",
       "Name: Claim, dtype: float64"
      ]
     },
     "execution_count": 38,
     "metadata": {},
     "output_type": "execute_result"
    }
   ],
   "source": [
    "travel.corr()['Claim'].sort_values()"
   ]
  },
  {
   "cell_type": "code",
   "execution_count": 39,
   "metadata": {},
   "outputs": [],
   "source": [
    "X = travel.drop('Claim', axis = 1)\n",
    "Y = travel['Claim']"
   ]
  },
  {
   "cell_type": "code",
   "execution_count": 40,
   "metadata": {},
   "outputs": [],
   "source": [
    "# Multi colinearity detection\n",
    "def plot_heatmap(df, fig_size=(10, 7)):\n",
    "    fig = plt.figure(figsize=fig_size)\n",
    "    sns.heatmap(df.corr(), annot=True)\n",
    "    plt.title('Heatmap for detecting multicollinearity', fontsize=16, color='navy')\n",
    "    plt.show()"
   ]
  },
  {
   "cell_type": "code",
   "execution_count": 41,
   "metadata": {},
   "outputs": [
    {
     "data": {
      "image/png": "[encoded data removed]",
      "text/plain": [
       "<Figure size 720x504 with 2 Axes>"
      ]
     },
     "metadata": {
      "needs_background": "light"
     },
     "output_type": "display_data"
    }
   ],
   "source": [
    "plot_heatmap(X)"
   ]
  },
  {
   "cell_type": "code",
   "execution_count": 42,
   "metadata": {},
   "outputs": [
    {
     "data": {
      "text/plain": [
       "0    62399\n",
       "1      927\n",
       "Name: Claim, dtype: int64"
      ]
     },
     "execution_count": 42,
     "metadata": {},
     "output_type": "execute_result"
    }
   ],
   "source": [
    "travel[\"Claim\"].value_counts()"
   ]
  },
  {
   "cell_type": "code",
   "execution_count": 43,
   "metadata": {},
   "outputs": [],
   "source": [
    "dataset_maj = travel[travel[\"Claim\"]==0]\n",
    "dataset_min = travel[travel[\"Claim\"]==1]"
   ]
  },
  {
   "cell_type": "code",
   "execution_count": 44,
   "metadata": {},
   "outputs": [],
   "source": [
    "from sklearn.utils import resample\n",
    "dataset_min_oversample = resample(dataset_min, \n",
    "                                 replace=True,     # sample with replacement\n",
    "                                 n_samples=12000,    # to match majority class\n",
    "                                 random_state=123)"
   ]
  },
  {
   "cell_type": "code",
   "execution_count": 45,
   "metadata": {},
   "outputs": [],
   "source": [
    "dataset_oversampled = pd.concat([dataset_maj, dataset_min_oversample])\n",
    "dataset_oversampled = dataset_oversampled.reset_index(drop=True)"
   ]
  },
  {
   "cell_type": "code",
   "execution_count": 46,
   "metadata": {},
   "outputs": [
    {
     "data": {
      "text/plain": [
       "0    62399\n",
       "1    12000\n",
       "Name: Claim, dtype: int64"
      ]
     },
     "execution_count": 46,
     "metadata": {},
     "output_type": "execute_result"
    }
   ],
   "source": [
    "dataset_oversampled[\"Claim\"].value_counts()"
   ]
  },
  {
   "cell_type": "code",
   "execution_count": 47,
   "metadata": {},
   "outputs": [
    {
     "data": {
      "text/plain": [
       "<bound method NDFrame.head of        Agency  Agency Type  Distribution Channel  Product Name  Claim  \\\n",
       "0           3            1                     0            12      0   \n",
       "1           3            1                     0            12      0   \n",
       "2           6            1                     1            16      0   \n",
       "3           6            1                     1            16      0   \n",
       "4           6            1                     1            16      0   \n",
       "...       ...          ...                   ...           ...    ...   \n",
       "74394       7            1                     1             1      1   \n",
       "74395       6            1                     1            16      1   \n",
       "74396       2            0                     1             9      1   \n",
       "74397       7            1                     1             1      1   \n",
       "74398      12            0                     1            25      1   \n",
       "\n",
       "       Duration        Destination  Net Sales  Commision (in value)   Age  \\\n",
       "0           186           MALAYSIA      -29.0                  9.57  81.0   \n",
       "1           186           MALAYSIA      -29.0                  9.57  71.0   \n",
       "2            65          AUSTRALIA      -49.5                 29.70  32.0   \n",
       "3            60          AUSTRALIA      -39.6                 23.76  32.0   \n",
       "4            79              ITALY      -19.8                 11.88  41.0   \n",
       "...         ...                ...        ...                   ...   ...   \n",
       "74394        49              ITALY       84.0                  0.00  36.0   \n",
       "74395        35          AUSTRALIA      158.4                 95.04  52.0   \n",
       "74396         7          SINGAPORE       20.0                  5.00  30.0   \n",
       "74397        15              JAPAN       44.0                  0.00  36.0   \n",
       "74398         7  BRUNEI DARUSSALAM       15.0                  6.00  69.0   \n",
       "\n",
       "       Age Group  \n",
       "0              2  \n",
       "1              2  \n",
       "2              0  \n",
       "3              0  \n",
       "4              0  \n",
       "...          ...  \n",
       "74394          0  \n",
       "74395          2  \n",
       "74396          0  \n",
       "74397          0  \n",
       "74398          2  \n",
       "\n",
       "[74399 rows x 11 columns]>"
      ]
     },
     "execution_count": 47,
     "metadata": {},
     "output_type": "execute_result"
    }
   ],
   "source": [
    "dataset_oversampled.head"
   ]
  },
  {
   "cell_type": "code",
   "execution_count": 48,
   "metadata": {},
   "outputs": [],
   "source": [
    "# Dropping Feature Gender\n",
    "dataset_oversampled.drop('Age',axis =1, inplace=True)"
   ]
  },
  {
   "cell_type": "code",
   "execution_count": 49,
   "metadata": {},
   "outputs": [
    {
     "data": {
      "text/html": [
       "<div>\n",
       "<style scoped>\n",
       "    .dataframe tbody tr th:only-of-type {\n",
       "        vertical-align: middle;\n",
       "    }\n",
       "\n",
       "    .dataframe tbody tr th {\n",
       "        vertical-align: top;\n",
       "    }\n",
       "\n",
       "    .dataframe thead th {\n",
       "        text-align: right;\n",
       "    }\n",
       "</style>\n",
       "<table border=\"1\" class=\"dataframe\">\n",
       "  <thead>\n",
       "    <tr style=\"text-align: right;\">\n",
       "      <th></th>\n",
       "      <th>Agency</th>\n",
       "      <th>Agency Type</th>\n",
       "      <th>Distribution Channel</th>\n",
       "      <th>Product Name</th>\n",
       "      <th>Duration</th>\n",
       "      <th>Net Sales</th>\n",
       "      <th>Commision (in value)</th>\n",
       "      <th>Age Group</th>\n",
       "      <th>Claim</th>\n",
       "    </tr>\n",
       "  </thead>\n",
       "  <tbody>\n",
       "    <tr>\n",
       "      <th>0</th>\n",
       "      <td>3</td>\n",
       "      <td>1</td>\n",
       "      <td>0</td>\n",
       "      <td>12</td>\n",
       "      <td>186</td>\n",
       "      <td>-29.0</td>\n",
       "      <td>9.57</td>\n",
       "      <td>2</td>\n",
       "      <td>0</td>\n",
       "    </tr>\n",
       "    <tr>\n",
       "      <th>1</th>\n",
       "      <td>3</td>\n",
       "      <td>1</td>\n",
       "      <td>0</td>\n",
       "      <td>12</td>\n",
       "      <td>186</td>\n",
       "      <td>-29.0</td>\n",
       "      <td>9.57</td>\n",
       "      <td>2</td>\n",
       "      <td>0</td>\n",
       "    </tr>\n",
       "    <tr>\n",
       "      <th>2</th>\n",
       "      <td>6</td>\n",
       "      <td>1</td>\n",
       "      <td>1</td>\n",
       "      <td>16</td>\n",
       "      <td>65</td>\n",
       "      <td>-49.5</td>\n",
       "      <td>29.70</td>\n",
       "      <td>0</td>\n",
       "      <td>0</td>\n",
       "    </tr>\n",
       "    <tr>\n",
       "      <th>3</th>\n",
       "      <td>6</td>\n",
       "      <td>1</td>\n",
       "      <td>1</td>\n",
       "      <td>16</td>\n",
       "      <td>60</td>\n",
       "      <td>-39.6</td>\n",
       "      <td>23.76</td>\n",
       "      <td>0</td>\n",
       "      <td>0</td>\n",
       "    </tr>\n",
       "    <tr>\n",
       "      <th>4</th>\n",
       "      <td>6</td>\n",
       "      <td>1</td>\n",
       "      <td>1</td>\n",
       "      <td>16</td>\n",
       "      <td>79</td>\n",
       "      <td>-19.8</td>\n",
       "      <td>11.88</td>\n",
       "      <td>0</td>\n",
       "      <td>0</td>\n",
       "    </tr>\n",
       "  </tbody>\n",
       "</table>\n",
       "</div>"
      ],
      "text/plain": [
       "   Agency  Agency Type  Distribution Channel  Product Name  Duration  \\\n",
       "0       3            1                     0            12       186   \n",
       "1       3            1                     0            12       186   \n",
       "2       6            1                     1            16        65   \n",
       "3       6            1                     1            16        60   \n",
       "4       6            1                     1            16        79   \n",
       "\n",
       "   Net Sales  Commision (in value)  Age Group  Claim  \n",
       "0      -29.0                  9.57          2      0  \n",
       "1      -29.0                  9.57          2      0  \n",
       "2      -49.5                 29.70          0      0  \n",
       "3      -39.6                 23.76          0      0  \n",
       "4      -19.8                 11.88          0      0  "
      ]
     },
     "execution_count": 49,
     "metadata": {},
     "output_type": "execute_result"
    }
   ],
   "source": [
    "columns = ['Agency','Agency Type','Distribution Channel','Product Name','Duration','Net Sales','Commision (in value)','Age Group','Claim']\n",
    "dataset_oversampled = dataset_oversampled.reindex(columns=columns)\n",
    "dataset_oversampled.head()"
   ]
  },
  {
   "cell_type": "code",
   "execution_count": 50,
   "metadata": {},
   "outputs": [],
   "source": [
    "X = dataset_oversampled[['Agency','Agency Type','Distribution Channel','Product Name','Duration','Net Sales','Commision (in value)','Age Group']]\n",
    "Y = dataset_oversampled[\"Claim\"]"
   ]
  },
  {
   "cell_type": "code",
   "execution_count": 51,
   "metadata": {},
   "outputs": [],
   "source": [
    "from statsmodels.stats.outliers_influence import variance_inflation_factor"
   ]
  },
  {
   "cell_type": "code",
   "execution_count": 52,
   "metadata": {},
   "outputs": [
    {
     "data": {
      "text/html": [
       "<div>\n",
       "<style scoped>\n",
       "    .dataframe tbody tr th:only-of-type {\n",
       "        vertical-align: middle;\n",
       "    }\n",
       "\n",
       "    .dataframe tbody tr th {\n",
       "        vertical-align: top;\n",
       "    }\n",
       "\n",
       "    .dataframe thead th {\n",
       "        text-align: right;\n",
       "    }\n",
       "</style>\n",
       "<table border=\"1\" class=\"dataframe\">\n",
       "  <thead>\n",
       "    <tr style=\"text-align: right;\">\n",
       "      <th></th>\n",
       "      <th>Features</th>\n",
       "      <th>VIF</th>\n",
       "    </tr>\n",
       "  </thead>\n",
       "  <tbody>\n",
       "    <tr>\n",
       "      <th>2</th>\n",
       "      <td>Distribution Channel</td>\n",
       "      <td>9.64</td>\n",
       "    </tr>\n",
       "    <tr>\n",
       "      <th>0</th>\n",
       "      <td>Agency</td>\n",
       "      <td>8.08</td>\n",
       "    </tr>\n",
       "    <tr>\n",
       "      <th>5</th>\n",
       "      <td>Net Sales</td>\n",
       "      <td>5.45</td>\n",
       "    </tr>\n",
       "    <tr>\n",
       "      <th>3</th>\n",
       "      <td>Product Name</td>\n",
       "      <td>4.00</td>\n",
       "    </tr>\n",
       "    <tr>\n",
       "      <th>1</th>\n",
       "      <td>Agency Type</td>\n",
       "      <td>3.97</td>\n",
       "    </tr>\n",
       "    <tr>\n",
       "      <th>6</th>\n",
       "      <td>Commision (in value)</td>\n",
       "      <td>3.51</td>\n",
       "    </tr>\n",
       "    <tr>\n",
       "      <th>4</th>\n",
       "      <td>Duration</td>\n",
       "      <td>3.06</td>\n",
       "    </tr>\n",
       "    <tr>\n",
       "      <th>7</th>\n",
       "      <td>Age Group</td>\n",
       "      <td>1.25</td>\n",
       "    </tr>\n",
       "  </tbody>\n",
       "</table>\n",
       "</div>"
      ],
      "text/plain": [
       "               Features   VIF\n",
       "2  Distribution Channel  9.64\n",
       "0                Agency  8.08\n",
       "5             Net Sales  5.45\n",
       "3          Product Name  4.00\n",
       "1           Agency Type  3.97\n",
       "6  Commision (in value)  3.51\n",
       "4              Duration  3.06\n",
       "7             Age Group  1.25"
      ]
     },
     "execution_count": 52,
     "metadata": {},
     "output_type": "execute_result"
    }
   ],
   "source": [
    "# Create a dataframe that will contain the names of all the feature variables and their respective VIFs\n",
    "vif = pd.DataFrame()\n",
    "vif['Features'] = X.columns\n",
    "vif['VIF'] = [variance_inflation_factor(X.values, i) for i in range(X.shape[1])]\n",
    "vif['VIF'] = round(vif['VIF'], 2)\n",
    "vif = vif.sort_values(by = \"VIF\", ascending = False)\n",
    "vif"
   ]
  },
  {
   "cell_type": "code",
   "execution_count": 53,
   "metadata": {},
   "outputs": [
    {
     "name": "stdout",
     "output_type": "stream",
     "text": [
      "Optimization terminated successfully.\n",
      "         Current function value: 0.360081\n",
      "         Iterations 6\n"
     ]
    },
    {
     "data": {
      "text/html": [
       "<table class=\"simpletable\">\n",
       "<caption>Probit Regression Results</caption>\n",
       "<tr>\n",
       "  <th>Dep. Variable:</th>         <td>Claim</td>      <th>  No. Observations:  </th>  <td> 74399</td> \n",
       "</tr>\n",
       "<tr>\n",
       "  <th>Model:</th>                <td>Probit</td>      <th>  Df Residuals:      </th>  <td> 74390</td> \n",
       "</tr>\n",
       "<tr>\n",
       "  <th>Method:</th>                 <td>MLE</td>       <th>  Df Model:          </th>  <td>     8</td> \n",
       "</tr>\n",
       "<tr>\n",
       "  <th>Date:</th>            <td>Sat, 13 Jun 2020</td> <th>  Pseudo R-squ.:     </th>  <td>0.1850</td> \n",
       "</tr>\n",
       "<tr>\n",
       "  <th>Time:</th>                <td>15:08:13</td>     <th>  Log-Likelihood:    </th> <td> -26790.</td>\n",
       "</tr>\n",
       "<tr>\n",
       "  <th>converged:</th>             <td>True</td>       <th>  LL-Null:           </th> <td> -32870.</td>\n",
       "</tr>\n",
       "<tr>\n",
       "  <th>Covariance Type:</th>     <td>nonrobust</td>    <th>  LLR p-value:       </th>  <td> 0.000</td> \n",
       "</tr>\n",
       "</table>\n",
       "<table class=\"simpletable\">\n",
       "<tr>\n",
       "            <td></td>              <th>coef</th>     <th>std err</th>      <th>z</th>      <th>P>|z|</th>  <th>[0.025</th>    <th>0.975]</th>  \n",
       "</tr>\n",
       "<tr>\n",
       "  <th>const</th>                <td>    0.4678</td> <td>    0.054</td> <td>    8.679</td> <td> 0.000</td> <td>    0.362</td> <td>    0.573</td>\n",
       "</tr>\n",
       "<tr>\n",
       "  <th>Agency</th>               <td>   -0.1131</td> <td>    0.003</td> <td>  -43.228</td> <td> 0.000</td> <td>   -0.118</td> <td>   -0.108</td>\n",
       "</tr>\n",
       "<tr>\n",
       "  <th>Agency Type</th>          <td>   -0.4738</td> <td>    0.016</td> <td>  -29.910</td> <td> 0.000</td> <td>   -0.505</td> <td>   -0.443</td>\n",
       "</tr>\n",
       "<tr>\n",
       "  <th>Distribution Channel</th> <td>   -0.7550</td> <td>    0.046</td> <td>  -16.396</td> <td> 0.000</td> <td>   -0.845</td> <td>   -0.665</td>\n",
       "</tr>\n",
       "<tr>\n",
       "  <th>Product Name</th>         <td>   -0.0011</td> <td>    0.001</td> <td>   -0.939</td> <td> 0.348</td> <td>   -0.003</td> <td>    0.001</td>\n",
       "</tr>\n",
       "<tr>\n",
       "  <th>Duration</th>             <td>   -0.0004</td> <td> 9.76e-05</td> <td>   -4.213</td> <td> 0.000</td> <td>   -0.001</td> <td>   -0.000</td>\n",
       "</tr>\n",
       "<tr>\n",
       "  <th>Net Sales</th>            <td>    0.0039</td> <td>    0.000</td> <td>   21.030</td> <td> 0.000</td> <td>    0.004</td> <td>    0.004</td>\n",
       "</tr>\n",
       "<tr>\n",
       "  <th>Commision (in value)</th> <td>    0.0033</td> <td>    0.000</td> <td>    7.849</td> <td> 0.000</td> <td>    0.002</td> <td>    0.004</td>\n",
       "</tr>\n",
       "<tr>\n",
       "  <th>Age Group</th>            <td>   -0.0802</td> <td>    0.009</td> <td>   -9.021</td> <td> 0.000</td> <td>   -0.098</td> <td>   -0.063</td>\n",
       "</tr>\n",
       "</table>"
      ],
      "text/plain": [
       "<class 'statsmodels.iolib.summary.Summary'>\n",
       "\"\"\"\n",
       "                          Probit Regression Results                           \n",
       "==============================================================================\n",
       "Dep. Variable:                  Claim   No. Observations:                74399\n",
       "Model:                         Probit   Df Residuals:                    74390\n",
       "Method:                           MLE   Df Model:                            8\n",
       "Date:                Sat, 13 Jun 2020   Pseudo R-squ.:                  0.1850\n",
       "Time:                        15:08:13   Log-Likelihood:                -26790.\n",
       "converged:                       True   LL-Null:                       -32870.\n",
       "Covariance Type:            nonrobust   LLR p-value:                     0.000\n",
       "========================================================================================\n",
       "                           coef    std err          z      P>|z|      [0.025      0.975]\n",
       "----------------------------------------------------------------------------------------\n",
       "const                    0.4678      0.054      8.679      0.000       0.362       0.573\n",
       "Agency                  -0.1131      0.003    -43.228      0.000      -0.118      -0.108\n",
       "Agency Type             -0.4738      0.016    -29.910      0.000      -0.505      -0.443\n",
       "Distribution Channel    -0.7550      0.046    -16.396      0.000      -0.845      -0.665\n",
       "Product Name            -0.0011      0.001     -0.939      0.348      -0.003       0.001\n",
       "Duration                -0.0004   9.76e-05     -4.213      0.000      -0.001      -0.000\n",
       "Net Sales                0.0039      0.000     21.030      0.000       0.004       0.004\n",
       "Commision (in value)     0.0033      0.000      7.849      0.000       0.002       0.004\n",
       "Age Group               -0.0802      0.009     -9.021      0.000      -0.098      -0.063\n",
       "========================================================================================\n",
       "\"\"\""
      ]
     },
     "execution_count": 53,
     "metadata": {},
     "output_type": "execute_result"
    }
   ],
   "source": [
    "import statsmodels.api as sm\n",
    "X = dataset_oversampled[['Agency','Agency Type','Distribution Channel','Product Name','Duration','Net Sales','Commision (in value)','Age Group']]\n",
    "Y = dataset_oversampled[\"Claim\"]\n",
    "X = sm.add_constant(X)\n",
    "\n",
    "Probit = sm.Probit(endog=Y, exog = X)\n",
    "\n",
    "result = Probit.fit()\n",
    "\n",
    "result.summary()"
   ]
  },
  {
   "cell_type": "code",
   "execution_count": 54,
   "metadata": {},
   "outputs": [
    {
     "name": "stdout",
     "output_type": "stream",
     "text": [
      "Optimization terminated successfully.\n",
      "         Current function value: 0.360034\n",
      "         Iterations 6\n"
     ]
    },
    {
     "data": {
      "text/html": [
       "<table class=\"simpletable\">\n",
       "<caption>Logit Regression Results</caption>\n",
       "<tr>\n",
       "  <th>Dep. Variable:</th>         <td>Claim</td>      <th>  No. Observations:  </th>  <td> 74399</td> \n",
       "</tr>\n",
       "<tr>\n",
       "  <th>Model:</th>                 <td>Logit</td>      <th>  Df Residuals:      </th>  <td> 74390</td> \n",
       "</tr>\n",
       "<tr>\n",
       "  <th>Method:</th>                 <td>MLE</td>       <th>  Df Model:          </th>  <td>     8</td> \n",
       "</tr>\n",
       "<tr>\n",
       "  <th>Date:</th>            <td>Sat, 13 Jun 2020</td> <th>  Pseudo R-squ.:     </th>  <td>0.1851</td> \n",
       "</tr>\n",
       "<tr>\n",
       "  <th>Time:</th>                <td>15:08:14</td>     <th>  Log-Likelihood:    </th> <td> -26786.</td>\n",
       "</tr>\n",
       "<tr>\n",
       "  <th>converged:</th>             <td>True</td>       <th>  LL-Null:           </th> <td> -32870.</td>\n",
       "</tr>\n",
       "<tr>\n",
       "  <th>Covariance Type:</th>     <td>nonrobust</td>    <th>  LLR p-value:       </th>  <td> 0.000</td> \n",
       "</tr>\n",
       "</table>\n",
       "<table class=\"simpletable\">\n",
       "<tr>\n",
       "            <td></td>              <th>coef</th>     <th>std err</th>      <th>z</th>      <th>P>|z|</th>  <th>[0.025</th>    <th>0.975]</th>  \n",
       "</tr>\n",
       "<tr>\n",
       "  <th>const</th>                <td>    0.9276</td> <td>    0.097</td> <td>    9.541</td> <td> 0.000</td> <td>    0.737</td> <td>    1.118</td>\n",
       "</tr>\n",
       "<tr>\n",
       "  <th>Agency</th>               <td>   -0.2082</td> <td>    0.005</td> <td>  -41.885</td> <td> 0.000</td> <td>   -0.218</td> <td>   -0.198</td>\n",
       "</tr>\n",
       "<tr>\n",
       "  <th>Agency Type</th>          <td>   -0.8496</td> <td>    0.030</td> <td>  -28.393</td> <td> 0.000</td> <td>   -0.908</td> <td>   -0.791</td>\n",
       "</tr>\n",
       "<tr>\n",
       "  <th>Distribution Channel</th> <td>   -1.2930</td> <td>    0.085</td> <td>  -15.164</td> <td> 0.000</td> <td>   -1.460</td> <td>   -1.126</td>\n",
       "</tr>\n",
       "<tr>\n",
       "  <th>Product Name</th>         <td>   -0.0039</td> <td>    0.002</td> <td>   -1.731</td> <td> 0.083</td> <td>   -0.008</td> <td>    0.001</td>\n",
       "</tr>\n",
       "<tr>\n",
       "  <th>Duration</th>             <td>   -0.0013</td> <td>    0.000</td> <td>   -6.837</td> <td> 0.000</td> <td>   -0.002</td> <td>   -0.001</td>\n",
       "</tr>\n",
       "<tr>\n",
       "  <th>Net Sales</th>            <td>    0.0067</td> <td>    0.000</td> <td>   19.025</td> <td> 0.000</td> <td>    0.006</td> <td>    0.007</td>\n",
       "</tr>\n",
       "<tr>\n",
       "  <th>Commision (in value)</th> <td>    0.0070</td> <td>    0.001</td> <td>    9.077</td> <td> 0.000</td> <td>    0.005</td> <td>    0.009</td>\n",
       "</tr>\n",
       "<tr>\n",
       "  <th>Age Group</th>            <td>   -0.1415</td> <td>    0.016</td> <td>   -8.719</td> <td> 0.000</td> <td>   -0.173</td> <td>   -0.110</td>\n",
       "</tr>\n",
       "</table>"
      ],
      "text/plain": [
       "<class 'statsmodels.iolib.summary.Summary'>\n",
       "\"\"\"\n",
       "                           Logit Regression Results                           \n",
       "==============================================================================\n",
       "Dep. Variable:                  Claim   No. Observations:                74399\n",
       "Model:                          Logit   Df Residuals:                    74390\n",
       "Method:                           MLE   Df Model:                            8\n",
       "Date:                Sat, 13 Jun 2020   Pseudo R-squ.:                  0.1851\n",
       "Time:                        15:08:14   Log-Likelihood:                -26786.\n",
       "converged:                       True   LL-Null:                       -32870.\n",
       "Covariance Type:            nonrobust   LLR p-value:                     0.000\n",
       "========================================================================================\n",
       "                           coef    std err          z      P>|z|      [0.025      0.975]\n",
       "----------------------------------------------------------------------------------------\n",
       "const                    0.9276      0.097      9.541      0.000       0.737       1.118\n",
       "Agency                  -0.2082      0.005    -41.885      0.000      -0.218      -0.198\n",
       "Agency Type             -0.8496      0.030    -28.393      0.000      -0.908      -0.791\n",
       "Distribution Channel    -1.2930      0.085    -15.164      0.000      -1.460      -1.126\n",
       "Product Name            -0.0039      0.002     -1.731      0.083      -0.008       0.001\n",
       "Duration                -0.0013      0.000     -6.837      0.000      -0.002      -0.001\n",
       "Net Sales                0.0067      0.000     19.025      0.000       0.006       0.007\n",
       "Commision (in value)     0.0070      0.001      9.077      0.000       0.005       0.009\n",
       "Age Group               -0.1415      0.016     -8.719      0.000      -0.173      -0.110\n",
       "========================================================================================\n",
       "\"\"\""
      ]
     },
     "execution_count": 54,
     "metadata": {},
     "output_type": "execute_result"
    }
   ],
   "source": [
    "X = dataset_oversampled[['Agency','Agency Type','Distribution Channel','Product Name','Duration','Net Sales','Commision (in value)','Age Group']]\n",
    "Y = dataset_oversampled[\"Claim\"]\n",
    "X = sm.add_constant(X)\n",
    "\n",
    "logit = sm.Logit(endog=Y, exog = X)\n",
    "\n",
    "result = logit.fit()\n",
    "\n",
    "result.summary()"
   ]
  },
  {
   "cell_type": "code",
   "execution_count": 55,
   "metadata": {},
   "outputs": [
    {
     "name": "stdout",
     "output_type": "stream",
     "text": [
      "Optimization terminated successfully.\n",
      "         Current function value: 0.360087\n",
      "         Iterations 6\n"
     ]
    },
    {
     "data": {
      "text/html": [
       "<table class=\"simpletable\">\n",
       "<caption>Probit Regression Results</caption>\n",
       "<tr>\n",
       "  <th>Dep. Variable:</th>         <td>Claim</td>      <th>  No. Observations:  </th>  <td> 74399</td> \n",
       "</tr>\n",
       "<tr>\n",
       "  <th>Model:</th>                <td>Probit</td>      <th>  Df Residuals:      </th>  <td> 74391</td> \n",
       "</tr>\n",
       "<tr>\n",
       "  <th>Method:</th>                 <td>MLE</td>       <th>  Df Model:          </th>  <td>     7</td> \n",
       "</tr>\n",
       "<tr>\n",
       "  <th>Date:</th>            <td>Sat, 13 Jun 2020</td> <th>  Pseudo R-squ.:     </th>  <td>0.1850</td> \n",
       "</tr>\n",
       "<tr>\n",
       "  <th>Time:</th>                <td>15:08:14</td>     <th>  Log-Likelihood:    </th> <td> -26790.</td>\n",
       "</tr>\n",
       "<tr>\n",
       "  <th>converged:</th>             <td>True</td>       <th>  LL-Null:           </th> <td> -32870.</td>\n",
       "</tr>\n",
       "<tr>\n",
       "  <th>Covariance Type:</th>     <td>nonrobust</td>    <th>  LLR p-value:       </th>  <td> 0.000</td> \n",
       "</tr>\n",
       "</table>\n",
       "<table class=\"simpletable\">\n",
       "<tr>\n",
       "            <td></td>              <th>coef</th>     <th>std err</th>      <th>z</th>      <th>P>|z|</th>  <th>[0.025</th>    <th>0.975]</th>  \n",
       "</tr>\n",
       "<tr>\n",
       "  <th>const</th>                <td>    0.4482</td> <td>    0.050</td> <td>    9.027</td> <td> 0.000</td> <td>    0.351</td> <td>    0.545</td>\n",
       "</tr>\n",
       "<tr>\n",
       "  <th>Agency</th>               <td>   -0.1134</td> <td>    0.003</td> <td>  -43.573</td> <td> 0.000</td> <td>   -0.118</td> <td>   -0.108</td>\n",
       "</tr>\n",
       "<tr>\n",
       "  <th>Agency Type</th>          <td>   -0.4690</td> <td>    0.015</td> <td>  -31.292</td> <td> 0.000</td> <td>   -0.498</td> <td>   -0.440</td>\n",
       "</tr>\n",
       "<tr>\n",
       "  <th>Distribution Channel</th> <td>   -0.7483</td> <td>    0.045</td> <td>  -16.462</td> <td> 0.000</td> <td>   -0.837</td> <td>   -0.659</td>\n",
       "</tr>\n",
       "<tr>\n",
       "  <th>Duration</th>             <td>   -0.0004</td> <td> 9.38e-05</td> <td>   -4.115</td> <td> 0.000</td> <td>   -0.001</td> <td>   -0.000</td>\n",
       "</tr>\n",
       "<tr>\n",
       "  <th>Net Sales</th>            <td>    0.0039</td> <td>    0.000</td> <td>   22.030</td> <td> 0.000</td> <td>    0.004</td> <td>    0.004</td>\n",
       "</tr>\n",
       "<tr>\n",
       "  <th>Commision (in value)</th> <td>    0.0031</td> <td>    0.000</td> <td>    8.360</td> <td> 0.000</td> <td>    0.002</td> <td>    0.004</td>\n",
       "</tr>\n",
       "<tr>\n",
       "  <th>Age Group</th>            <td>   -0.0808</td> <td>    0.009</td> <td>   -9.118</td> <td> 0.000</td> <td>   -0.098</td> <td>   -0.063</td>\n",
       "</tr>\n",
       "</table>"
      ],
      "text/plain": [
       "<class 'statsmodels.iolib.summary.Summary'>\n",
       "\"\"\"\n",
       "                          Probit Regression Results                           \n",
       "==============================================================================\n",
       "Dep. Variable:                  Claim   No. Observations:                74399\n",
       "Model:                         Probit   Df Residuals:                    74391\n",
       "Method:                           MLE   Df Model:                            7\n",
       "Date:                Sat, 13 Jun 2020   Pseudo R-squ.:                  0.1850\n",
       "Time:                        15:08:14   Log-Likelihood:                -26790.\n",
       "converged:                       True   LL-Null:                       -32870.\n",
       "Covariance Type:            nonrobust   LLR p-value:                     0.000\n",
       "========================================================================================\n",
       "                           coef    std err          z      P>|z|      [0.025      0.975]\n",
       "----------------------------------------------------------------------------------------\n",
       "const                    0.4482      0.050      9.027      0.000       0.351       0.545\n",
       "Agency                  -0.1134      0.003    -43.573      0.000      -0.118      -0.108\n",
       "Agency Type             -0.4690      0.015    -31.292      0.000      -0.498      -0.440\n",
       "Distribution Channel    -0.7483      0.045    -16.462      0.000      -0.837      -0.659\n",
       "Duration                -0.0004   9.38e-05     -4.115      0.000      -0.001      -0.000\n",
       "Net Sales                0.0039      0.000     22.030      0.000       0.004       0.004\n",
       "Commision (in value)     0.0031      0.000      8.360      0.000       0.002       0.004\n",
       "Age Group               -0.0808      0.009     -9.118      0.000      -0.098      -0.063\n",
       "========================================================================================\n",
       "\"\"\""
      ]
     },
     "execution_count": 55,
     "metadata": {},
     "output_type": "execute_result"
    }
   ],
   "source": [
    "X_1 = dataset_oversampled[['Agency','Agency Type','Distribution Channel','Duration','Net Sales','Commision (in value)','Age Group']]\n",
    "Y_1= dataset_oversampled[\"Claim\"]\n",
    "X_1= sm.add_constant(X_1)\n",
    "\n",
    "probit = sm.Probit(endog=Y_1, exog = X_1)\n",
    "\n",
    "result = probit.fit()\n",
    "\n",
    "result.summary()"
   ]
  },
  {
   "cell_type": "code",
   "execution_count": 56,
   "metadata": {},
   "outputs": [
    {
     "name": "stdout",
     "output_type": "stream",
     "text": [
      "Optimization terminated successfully.\n",
      "         Current function value: 0.360054\n",
      "         Iterations 6\n"
     ]
    },
    {
     "data": {
      "text/html": [
       "<table class=\"simpletable\">\n",
       "<caption>Logit Regression Results</caption>\n",
       "<tr>\n",
       "  <th>Dep. Variable:</th>         <td>Claim</td>      <th>  No. Observations:  </th>  <td> 74399</td> \n",
       "</tr>\n",
       "<tr>\n",
       "  <th>Model:</th>                 <td>Logit</td>      <th>  Df Residuals:      </th>  <td> 74391</td> \n",
       "</tr>\n",
       "<tr>\n",
       "  <th>Method:</th>                 <td>MLE</td>       <th>  Df Model:          </th>  <td>     7</td> \n",
       "</tr>\n",
       "<tr>\n",
       "  <th>Date:</th>            <td>Sat, 13 Jun 2020</td> <th>  Pseudo R-squ.:     </th>  <td>0.1850</td> \n",
       "</tr>\n",
       "<tr>\n",
       "  <th>Time:</th>                <td>15:08:15</td>     <th>  Log-Likelihood:    </th> <td> -26788.</td>\n",
       "</tr>\n",
       "<tr>\n",
       "  <th>converged:</th>             <td>True</td>       <th>  LL-Null:           </th> <td> -32870.</td>\n",
       "</tr>\n",
       "<tr>\n",
       "  <th>Covariance Type:</th>     <td>nonrobust</td>    <th>  LLR p-value:       </th>  <td> 0.000</td> \n",
       "</tr>\n",
       "</table>\n",
       "<table class=\"simpletable\">\n",
       "<tr>\n",
       "            <td></td>              <th>coef</th>     <th>std err</th>      <th>z</th>      <th>P>|z|</th>  <th>[0.025</th>    <th>0.975]</th>  \n",
       "</tr>\n",
       "<tr>\n",
       "  <th>const</th>                <td>    0.8626</td> <td>    0.090</td> <td>    9.627</td> <td> 0.000</td> <td>    0.687</td> <td>    1.038</td>\n",
       "</tr>\n",
       "<tr>\n",
       "  <th>Agency</th>               <td>   -0.2086</td> <td>    0.005</td> <td>  -42.122</td> <td> 0.000</td> <td>   -0.218</td> <td>   -0.199</td>\n",
       "</tr>\n",
       "<tr>\n",
       "  <th>Agency Type</th>          <td>   -0.8346</td> <td>    0.029</td> <td>  -29.173</td> <td> 0.000</td> <td>   -0.891</td> <td>   -0.779</td>\n",
       "</tr>\n",
       "<tr>\n",
       "  <th>Distribution Channel</th> <td>   -1.2745</td> <td>    0.084</td> <td>  -15.088</td> <td> 0.000</td> <td>   -1.440</td> <td>   -1.109</td>\n",
       "</tr>\n",
       "<tr>\n",
       "  <th>Duration</th>             <td>   -0.0012</td> <td>    0.000</td> <td>   -6.632</td> <td> 0.000</td> <td>   -0.002</td> <td>   -0.001</td>\n",
       "</tr>\n",
       "<tr>\n",
       "  <th>Net Sales</th>            <td>    0.0068</td> <td>    0.000</td> <td>   19.853</td> <td> 0.000</td> <td>    0.006</td> <td>    0.008</td>\n",
       "</tr>\n",
       "<tr>\n",
       "  <th>Commision (in value)</th> <td>    0.0064</td> <td>    0.001</td> <td>    9.248</td> <td> 0.000</td> <td>    0.005</td> <td>    0.008</td>\n",
       "</tr>\n",
       "<tr>\n",
       "  <th>Age Group</th>            <td>   -0.1441</td> <td>    0.016</td> <td>   -8.922</td> <td> 0.000</td> <td>   -0.176</td> <td>   -0.112</td>\n",
       "</tr>\n",
       "</table>"
      ],
      "text/plain": [
       "<class 'statsmodels.iolib.summary.Summary'>\n",
       "\"\"\"\n",
       "                           Logit Regression Results                           \n",
       "==============================================================================\n",
       "Dep. Variable:                  Claim   No. Observations:                74399\n",
       "Model:                          Logit   Df Residuals:                    74391\n",
       "Method:                           MLE   Df Model:                            7\n",
       "Date:                Sat, 13 Jun 2020   Pseudo R-squ.:                  0.1850\n",
       "Time:                        15:08:15   Log-Likelihood:                -26788.\n",
       "converged:                       True   LL-Null:                       -32870.\n",
       "Covariance Type:            nonrobust   LLR p-value:                     0.000\n",
       "========================================================================================\n",
       "                           coef    std err          z      P>|z|      [0.025      0.975]\n",
       "----------------------------------------------------------------------------------------\n",
       "const                    0.8626      0.090      9.627      0.000       0.687       1.038\n",
       "Agency                  -0.2086      0.005    -42.122      0.000      -0.218      -0.199\n",
       "Agency Type             -0.8346      0.029    -29.173      0.000      -0.891      -0.779\n",
       "Distribution Channel    -1.2745      0.084    -15.088      0.000      -1.440      -1.109\n",
       "Duration                -0.0012      0.000     -6.632      0.000      -0.002      -0.001\n",
       "Net Sales                0.0068      0.000     19.853      0.000       0.006       0.008\n",
       "Commision (in value)     0.0064      0.001      9.248      0.000       0.005       0.008\n",
       "Age Group               -0.1441      0.016     -8.922      0.000      -0.176      -0.112\n",
       "========================================================================================\n",
       "\"\"\""
      ]
     },
     "execution_count": 56,
     "metadata": {},
     "output_type": "execute_result"
    }
   ],
   "source": [
    "X_1 = dataset_oversampled[['Agency','Agency Type','Distribution Channel','Duration','Net Sales','Commision (in value)','Age Group']]\n",
    "Y_1 = dataset_oversampled[\"Claim\"]\n",
    "X_1 = sm.add_constant(X_1)\n",
    "\n",
    "logit = sm.Logit(endog=Y_1, exog = X_1)\n",
    "\n",
    "result = logit.fit()\n",
    "\n",
    "result.summary()"
   ]
  },
  {
   "cell_type": "code",
   "execution_count": 57,
   "metadata": {},
   "outputs": [
    {
     "name": "stderr",
     "output_type": "stream",
     "text": [
      "C:\\Users\\Saurabh\\Anaconda3\\lib\\site-packages\\sklearn\\linear_model\\_logistic.py:940: ConvergenceWarning: lbfgs failed to converge (status=1):\n",
      "STOP: TOTAL NO. of ITERATIONS REACHED LIMIT.\n",
      "\n",
      "Increase the number of iterations (max_iter) or scale the data as shown in:\n",
      "    https://scikit-learn.org/stable/modules/preprocessing.html\n",
      "Please also refer to the documentation for alternative solver options:\n",
      "    https://scikit-learn.org/stable/modules/linear_model.html#logistic-regression\n",
      "  extra_warning_msg=_LOGISTIC_SOLVER_CONVERGENCE_MSG)\n"
     ]
    },
    {
     "data": {
      "image/png": "[encoded data removed]",
      "text/plain": [
       "<Figure size 576x432 with 2 Axes>"
      ]
     },
     "metadata": {
      "needs_background": "light"
     },
     "output_type": "display_data"
    }
   ],
   "source": [
    "from sklearn.linear_model import LogisticRegression\n",
    "classifier = LogisticRegression(random_state = 0)\n",
    "classifier.fit(X, Y)\n",
    "\n",
    "y_pred = classifier.predict(X)\n",
    "\n",
    "from sklearn.metrics import plot_confusion_matrix\n",
    "plot_confusion_matrix(classifier, X, Y , cmap='PuBuGn')  # doctest: +SKIP\n",
    "plt.show()"
   ]
  },
  {
   "cell_type": "code",
   "execution_count": 58,
   "metadata": {},
   "outputs": [
    {
     "data": {
      "image/png": "[encoded data removed]",
      "text/plain": [
       "<Figure size 576x432 with 1 Axes>"
      ]
     },
     "metadata": {
      "needs_background": "light"
     },
     "output_type": "display_data"
    }
   ],
   "source": [
    "#ROC curve code\n",
    "import sklearn.metrics as metrics\n",
    "\n",
    "probs = classifier.predict_proba(X)\n",
    "preds = probs[:,1]\n",
    "\n",
    "fpr, tpr, threshold = metrics.roc_curve(Y, preds)\n",
    "roc_auc = metrics.auc(fpr, tpr)\n",
    "\n",
    "\n",
    "import matplotlib.pyplot as plt\n",
    "plt.title('Receiver Operating Characteristic')\n",
    "plt.plot(fpr, tpr, 'b', label = 'AUC = %0.4f' % roc_auc)\n",
    "plt.legend(loc = 'lower right')\n",
    "\n",
    "plt.plot([0, 1], [0, 1],'r--')\n",
    "plt.xlim([0, 1])\n",
    "plt.ylim([0.0, 1.05])\n",
    "plt.ylabel('True Positive Rate')\n",
    "plt.xlabel('False Positive Rate')\n",
    "plt.show()\n"
   ]
  },
  {
   "cell_type": "code",
   "execution_count": 59,
   "metadata": {},
   "outputs": [
    {
     "data": {
      "image/png": "[encoded data removed]",
      "text/plain": [
       "<Figure size 576x432 with 2 Axes>"
      ]
     },
     "metadata": {
      "needs_background": "light"
     },
     "output_type": "display_data"
    }
   ],
   "source": [
    "from sklearn.linear_model import LogisticRegression\n",
    "classifier = LogisticRegression(random_state = 0)\n",
    "classifier.fit(X_1, Y_1)\n",
    "\n",
    "y_pred_1 = classifier.predict(X_1)\n",
    "\n",
    "from sklearn.metrics import plot_confusion_matrix\n",
    "plot_confusion_matrix(classifier, X_1, Y_1, cmap='PuBuGn')  # doctest: +SKIP\n",
    "plt.show()"
   ]
  },
  {
   "cell_type": "code",
   "execution_count": 60,
   "metadata": {},
   "outputs": [
    {
     "data": {
      "image/png": "[encoded data removed]",
      "text/plain": [
       "<Figure size 576x432 with 1 Axes>"
      ]
     },
     "metadata": {
      "needs_background": "light"
     },
     "output_type": "display_data"
    }
   ],
   "source": [
    "#ROC curve code\n",
    "import sklearn.metrics as metrics\n",
    "\n",
    "probs_1 = classifier.predict_proba(X_1)\n",
    "preds_1 = probs_1[:,1]\n",
    "\n",
    "fpr, tpr, threshold = metrics.roc_curve(Y_1, preds_1)\n",
    "roc_auc = metrics.auc(fpr, tpr)\n",
    "\n",
    "\n",
    "import matplotlib.pyplot as plt\n",
    "plt.title('Receiver Operating Characteristic')\n",
    "plt.plot(fpr, tpr, 'b', label = 'AUC = %0.4f' % roc_auc)\n",
    "plt.legend(loc = 'lower right')\n",
    "\n",
    "plt.plot([0, 1], [0, 1],'r--')\n",
    "plt.xlim([0, 1])\n",
    "plt.ylim([0.0, 1.05])\n",
    "plt.ylabel('True Positive Rate')\n",
    "plt.xlabel('False Positive Rate')\n",
    "plt.show()"
   ]
  },
  {
   "cell_type": "code",
   "execution_count": 61,
   "metadata": {},
   "outputs": [
    {
     "data": {
      "text/plain": [
       "0.8196462542954248"
      ]
     },
     "execution_count": 61,
     "metadata": {},
     "output_type": "execute_result"
    }
   ],
   "source": [
    "from sklearn.metrics import f1_score\n",
    "f1_score(Y, y_pred, average='weighted')"
   ]
  },
  {
   "cell_type": "code",
   "execution_count": 62,
   "metadata": {},
   "outputs": [
    {
     "data": {
      "text/plain": [
       "0.8198684099306207"
      ]
     },
     "execution_count": 62,
     "metadata": {},
     "output_type": "execute_result"
    }
   ],
   "source": [
    "from sklearn.metrics import f1_score\n",
    "f1_score(Y_1, y_pred_1, average='weighted')"
   ]
  },
  {
   "cell_type": "code",
   "execution_count": null,
   "metadata": {},
   "outputs": [],
   "source": []
  }
 ],
 "metadata": {
  "kernelspec": {
   "display_name": "Python 3",
   "language": "python",
   "name": "python3"
  },
  "language_info": {
   "codemirror_mode": {
    "name": "ipython",
    "version": 3
   },
   "file_extension": ".py",
   "mimetype": "text/x-python",
   "name": "python",
   "nbconvert_exporter": "python",
   "pygments_lexer": "ipython3",
   "version": "3.7.3"
  }
 },
 "nbformat": 4,
 "nbformat_minor": 2
}
